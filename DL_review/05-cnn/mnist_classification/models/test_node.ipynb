{
 "cells": [
  {
   "cell_type": "code",
   "execution_count": 19,
   "id": "50612539",
   "metadata": {
    "ExecuteTime": {
     "end_time": "2021-11-20T11:53:18.956142Z",
     "start_time": "2021-11-20T11:53:18.952262Z"
    }
   },
   "outputs": [
    {
     "name": "stdout",
     "output_type": "stream",
     "text": [
      "torch.Size([1000, 1, 28, 28])\n"
     ]
    }
   ],
   "source": [
    "dummy_data = torch.Tensor(1000,1,28,28) # 1000 은 bath size 를 나타냄\n",
    "print(dummy_data.shape)"
   ]
  },
  {
   "cell_type": "code",
   "execution_count": 25,
   "id": "28e3728d",
   "metadata": {
    "ExecuteTime": {
     "end_time": "2021-11-20T11:55:31.600973Z",
     "start_time": "2021-11-20T11:55:31.592470Z"
    }
   },
   "outputs": [],
   "source": [
    "class dummy_CNN(nn.Module):\n",
    "    def __init__(self):\n",
    "        super(dummy_CNN ,self).__init__()\n",
    "    \n",
    "        self.layer1 = nn.Sequential(nn.Conv2d(1, 64, kernel_size = 1, stride = 1, padding = 1),\n",
    "                                    nn.BatchNorm2d(64),\n",
    "                                    nn.ReLU(),\n",
    "                                    nn.MaxPool2d(2))\n",
    "        \n",
    "        self.layer2 = nn.Sequential(nn.Conv2d(64, 128, kernel_size = 5, stride = 2, padding = 0),\n",
    "                                    nn.BatchNorm2d(128),\n",
    "                                    nn.ReLU(),\n",
    "                                    nn.MaxPool2d(2))\n",
    "    \n",
    "    def forward(self,x):\n",
    "        print(x.shape)\n",
    "        out = self.layer1(x)\n",
    "        print(out.shape)\n",
    "        out = self.layer2(out)\n",
    "        \n",
    "        return out\n",
    "    \n",
    "dummy_model = dummy_CNN()"
   ]
  },
  {
   "cell_type": "code",
   "execution_count": 26,
   "id": "3c8c443c",
   "metadata": {
    "ExecuteTime": {
     "end_time": "2021-11-20T11:55:32.789532Z",
     "start_time": "2021-11-20T11:55:32.000156Z"
    },
    "scrolled": true
   },
   "outputs": [
    {
     "name": "stdout",
     "output_type": "stream",
     "text": [
      "torch.Size([1000, 1, 28, 28])\n",
      "torch.Size([1000, 64, 15, 15])\n"
     ]
    },
    {
     "data": {
      "text/plain": [
       "torch.Size([1000, 128, 3, 3])"
      ]
     },
     "execution_count": 26,
     "metadata": {},
     "output_type": "execute_result"
    }
   ],
   "source": [
    "dummy_model(dummy_data).shape"
   ]
  },
  {
   "cell_type": "markdown",
   "id": "3a7716fd",
   "metadata": {},
   "source": [
    "아래를 통해 Conv Layer의 output 은 1000(batch size) 128(output chennel) 3 * 3 을 나타냄을 알 수 있다"
   ]
  }
 ],
 "metadata": {
  "hide_input": false,
  "kernelspec": {
   "display_name": "Python 3 (ipykernel)",
   "language": "python",
   "name": "python3"
  },
  "language_info": {
   "codemirror_mode": {
    "name": "ipython",
    "version": 3
   },
   "file_extension": ".py",
   "mimetype": "text/x-python",
   "name": "python",
   "nbconvert_exporter": "python",
   "pygments_lexer": "ipython3",
   "version": "3.8.5"
  },
  "toc": {
   "base_numbering": 1,
   "nav_menu": {},
   "number_sections": true,
   "sideBar": true,
   "skip_h1_title": false,
   "title_cell": "Table of Contents",
   "title_sidebar": "Contents",
   "toc_cell": false,
   "toc_position": {},
   "toc_section_display": true,
   "toc_window_display": false
  },
  "varInspector": {
   "cols": {
    "lenName": 16,
    "lenType": 16,
    "lenVar": 40
   },
   "kernels_config": {
    "python": {
     "delete_cmd_postfix": "",
     "delete_cmd_prefix": "del ",
     "library": "var_list.py",
     "varRefreshCmd": "print(var_dic_list())"
    },
    "r": {
     "delete_cmd_postfix": ") ",
     "delete_cmd_prefix": "rm(",
     "library": "var_list.r",
     "varRefreshCmd": "cat(var_dic_list()) "
    }
   },
   "types_to_exclude": [
    "module",
    "function",
    "builtin_function_or_method",
    "instance",
    "_Feature"
   ],
   "window_display": false
  }
 },
 "nbformat": 4,
 "nbformat_minor": 5
}
