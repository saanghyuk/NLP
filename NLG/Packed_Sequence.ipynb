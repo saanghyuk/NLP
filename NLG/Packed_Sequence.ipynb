{
 "cells": [
  {
   "cell_type": "markdown",
   "id": "ef80894f",
   "metadata": {},
   "source": [
    "### [Reference Stackoverflow](https://stackoverflow.com/questions/51030782/why-do-we-pack-the-sequences-in-pytorch)"
   ]
  },
  {
   "cell_type": "code",
   "execution_count": 2,
   "id": "9c16cbe2",
   "metadata": {
    "ExecuteTime": {
     "end_time": "2021-11-29T16:51:35.409117Z",
     "start_time": "2021-11-29T16:51:35.406110Z"
    }
   },
   "outputs": [],
   "source": [
    "import torch\n",
    "import torch.nn as nn\n",
    "from torch.nn.utils.rnn import pack_padded_sequence\n",
    "from torch.nn.utils.rnn import pad_packed_sequence"
   ]
  },
  {
   "cell_type": "code",
   "execution_count": 3,
   "id": "1abc7196",
   "metadata": {
    "ExecuteTime": {
     "end_time": "2021-11-29T16:51:36.599461Z",
     "start_time": "2021-11-29T16:51:36.595742Z"
    }
   },
   "outputs": [],
   "source": [
    "import torch \n",
    "\n",
    "seq_batch = [torch.tensor([[1, 1],\n",
    "                           [2, 2],\n",
    "                           [3, 3],\n",
    "                           [4, 4],\n",
    "                           [5, 5]]),\n",
    "             torch.tensor([[10, 10],\n",
    "                           [20, 20]])]\n",
    "\n",
    "seq_lens = [5, 2]"
   ]
  },
  {
   "cell_type": "code",
   "execution_count": 4,
   "id": "35271093",
   "metadata": {
    "ExecuteTime": {
     "end_time": "2021-11-29T16:51:39.116289Z",
     "start_time": "2021-11-29T16:51:39.108867Z"
    },
    "code_folding": [
     10
    ]
   },
   "outputs": [
    {
     "data": {
      "text/plain": [
       "'\\n>>>padded_seq_batch\\ntensor([[[ 1,  1],\\n         [ 2,  2],\\n         [ 3,  3],\\n         [ 4,  4],\\n         [ 5,  5]],\\n\\n        [[10, 10],\\n         [20, 20],\\n         [ 0,  0],\\n         [ 0,  0],\\n         [ 0,  0]]])\\n'"
      ]
     },
     "execution_count": 4,
     "metadata": {},
     "output_type": "execute_result"
    }
   ],
   "source": [
    "# pad the seq_batch\n",
    "padded_seq_batch = torch.nn.utils.rnn.pad_sequence(seq_batch, batch_first=True)\n",
    "\"\"\"\n",
    ">>>padded_seq_batch\n",
    "tensor([[[ 1,  1],\n",
    "         [ 2,  2],\n",
    "         [ 3,  3],\n",
    "         [ 4,  4],\n",
    "         [ 5,  5]],\n",
    "\n",
    "        [[10, 10],\n",
    "         [20, 20],\n",
    "         [ 0,  0],\n",
    "         [ 0,  0],\n",
    "         [ 0,  0]]])\n",
    "\"\"\""
   ]
  },
  {
   "cell_type": "code",
   "execution_count": 15,
   "id": "6eeac294",
   "metadata": {
    "ExecuteTime": {
     "end_time": "2021-11-30T06:50:31.252251Z",
     "start_time": "2021-11-30T06:50:31.246288Z"
    }
   },
   "outputs": [
    {
     "data": {
      "text/plain": [
       "tensor([[[ 1,  1],\n",
       "         [ 2,  2],\n",
       "         [ 3,  3],\n",
       "         [ 4,  4],\n",
       "         [ 5,  5]],\n",
       "\n",
       "        [[10, 10],\n",
       "         [20, 20],\n",
       "         [ 0,  0],\n",
       "         [ 0,  0],\n",
       "         [ 0,  0]]])"
      ]
     },
     "execution_count": 15,
     "metadata": {},
     "output_type": "execute_result"
    }
   ],
   "source": [
    "padded_seq_batch"
   ]
  },
  {
   "cell_type": "code",
   "execution_count": 16,
   "id": "31b417a6",
   "metadata": {
    "ExecuteTime": {
     "end_time": "2021-11-30T06:50:32.647847Z",
     "start_time": "2021-11-30T06:50:32.641438Z"
    }
   },
   "outputs": [
    {
     "data": {
      "text/plain": [
       "PackedSequence(data=tensor([[ 1,  1],\n",
       "        [10, 10],\n",
       "        [ 2,  2],\n",
       "        [20, 20],\n",
       "        [ 3,  3],\n",
       "        [ 4,  4],\n",
       "        [ 5,  5]]), batch_sizes=tensor([2, 2, 1, 1, 1]), sorted_indices=None, unsorted_indices=None)"
      ]
     },
     "execution_count": 16,
     "metadata": {},
     "output_type": "execute_result"
    }
   ],
   "source": [
    "# pack the padded_seq_batch\n",
    "packed_seq_batch = torch.nn.utils.rnn.pack_padded_sequence(padded_seq_batch, lengths=seq_lens, batch_first=True)\n",
    "\"\"\"\n",
    ">>> packed_seq_batch\n",
    "PackedSequence(\n",
    "   data=tensor([[ 1,  1],\n",
    "                [10, 10],\n",
    "                [ 2,  2],\n",
    "                [20, 20],\n",
    "                [ 3,  3],\n",
    "                [ 4,  4],\n",
    "                [ 5,  5]]), \n",
    "   batch_sizes=tensor([2, 2, 1, 1, 1]))\n",
    "\"\"\"\n",
    "packed_seq_batch"
   ]
  },
  {
   "cell_type": "code",
   "execution_count": 8,
   "id": "cbc2e37e",
   "metadata": {
    "ExecuteTime": {
     "end_time": "2021-11-29T16:55:17.097316Z",
     "start_time": "2021-11-29T16:55:17.091492Z"
    }
   },
   "outputs": [],
   "source": [
    "# input size : input vector size of each time stamp\n",
    "# hidden size : hidden vector size(output)\n",
    "lstm = nn.LSTM(input_size=2, hidden_size=3, batch_first=True)\n",
    "output, (hn, cn) = lstm(packed_seq_batch.float())"
   ]
  },
  {
   "cell_type": "code",
   "execution_count": 9,
   "id": "6fb872f6",
   "metadata": {
    "ExecuteTime": {
     "end_time": "2021-11-29T16:55:19.235117Z",
     "start_time": "2021-11-29T16:55:19.229848Z"
    }
   },
   "outputs": [
    {
     "data": {
      "text/plain": [
       "PackedSequence(data=tensor([[9.6369e-03, 7.6992e-02, 1.3758e-02],\n",
       "        [1.0080e-01, 3.6183e-03, 1.9047e-05],\n",
       "        [9.7091e-02, 1.1201e-01, 4.0262e-02],\n",
       "        [2.7153e-02, 3.2999e-03, 2.0086e-05],\n",
       "        [1.4345e-01, 1.2920e-01, 5.7135e-02],\n",
       "        [1.5237e-01, 1.3640e-01, 6.6257e-02],\n",
       "        [1.4731e-01, 1.3819e-01, 7.1561e-02]], grad_fn=<CatBackward0>), batch_sizes=tensor([2, 2, 1, 1, 1]), sorted_indices=None, unsorted_indices=None)"
      ]
     },
     "execution_count": 9,
     "metadata": {},
     "output_type": "execute_result"
    }
   ],
   "source": [
    "output"
   ]
  },
  {
   "cell_type": "code",
   "execution_count": 10,
   "id": "3a300567",
   "metadata": {
    "ExecuteTime": {
     "end_time": "2021-11-29T16:55:22.328357Z",
     "start_time": "2021-11-29T16:55:22.323392Z"
    }
   },
   "outputs": [
    {
     "data": {
      "text/plain": [
       "tensor([[[1.4731e-01, 1.3819e-01, 7.1561e-02],\n",
       "         [2.7153e-02, 3.2999e-03, 2.0086e-05]]], grad_fn=<StackBackward0>)"
      ]
     },
     "execution_count": 10,
     "metadata": {},
     "output_type": "execute_result"
    }
   ],
   "source": [
    "hn"
   ]
  },
  {
   "cell_type": "code",
   "execution_count": 11,
   "id": "b0fe33c7",
   "metadata": {
    "ExecuteTime": {
     "end_time": "2021-11-29T16:55:23.949439Z",
     "start_time": "2021-11-29T16:55:23.944977Z"
    }
   },
   "outputs": [
    {
     "data": {
      "text/plain": [
       "tensor([[[5.0977e-01, 6.1316e-01, 9.3382e-02],\n",
       "         [9.1511e-01, 1.6663e-02, 2.0128e-05]]], grad_fn=<StackBackward0>)"
      ]
     },
     "execution_count": 11,
     "metadata": {},
     "output_type": "execute_result"
    }
   ],
   "source": [
    "cn"
   ]
  },
  {
   "cell_type": "code",
   "execution_count": 12,
   "id": "9697fe9d",
   "metadata": {
    "ExecuteTime": {
     "end_time": "2021-11-29T17:00:29.391914Z",
     "start_time": "2021-11-29T17:00:29.388606Z"
    }
   },
   "outputs": [],
   "source": [
    "padded_output, output_lens = torch.nn.utils.rnn.pad_packed_sequence(output, batch_first=True)"
   ]
  },
  {
   "cell_type": "code",
   "execution_count": 13,
   "id": "afc75e14",
   "metadata": {
    "ExecuteTime": {
     "end_time": "2021-11-29T17:00:33.680644Z",
     "start_time": "2021-11-29T17:00:33.675112Z"
    }
   },
   "outputs": [
    {
     "data": {
      "text/plain": [
       "tensor([[[9.6369e-03, 7.6992e-02, 1.3758e-02],\n",
       "         [9.7091e-02, 1.1201e-01, 4.0262e-02],\n",
       "         [1.4345e-01, 1.2920e-01, 5.7135e-02],\n",
       "         [1.5237e-01, 1.3640e-01, 6.6257e-02],\n",
       "         [1.4731e-01, 1.3819e-01, 7.1561e-02]],\n",
       "\n",
       "        [[1.0080e-01, 3.6183e-03, 1.9047e-05],\n",
       "         [2.7153e-02, 3.2999e-03, 2.0086e-05],\n",
       "         [0.0000e+00, 0.0000e+00, 0.0000e+00],\n",
       "         [0.0000e+00, 0.0000e+00, 0.0000e+00],\n",
       "         [0.0000e+00, 0.0000e+00, 0.0000e+00]]], grad_fn=<TransposeBackward0>)"
      ]
     },
     "execution_count": 13,
     "metadata": {},
     "output_type": "execute_result"
    }
   ],
   "source": [
    "padded_output"
   ]
  },
  {
   "cell_type": "code",
   "execution_count": 14,
   "id": "2cb25a95",
   "metadata": {
    "ExecuteTime": {
     "end_time": "2021-11-29T17:00:50.118304Z",
     "start_time": "2021-11-29T17:00:50.112605Z"
    }
   },
   "outputs": [
    {
     "data": {
      "text/plain": [
       "tensor([5, 2])"
      ]
     },
     "execution_count": 14,
     "metadata": {},
     "output_type": "execute_result"
    }
   ],
   "source": [
    "output_lens"
   ]
  },
  {
   "cell_type": "code",
   "execution_count": null,
   "id": "3a45c4c1",
   "metadata": {},
   "outputs": [],
   "source": []
  },
  {
   "cell_type": "code",
   "execution_count": null,
   "id": "b7d3d6ed",
   "metadata": {},
   "outputs": [],
   "source": []
  },
  {
   "cell_type": "code",
   "execution_count": null,
   "id": "8e091fa2",
   "metadata": {},
   "outputs": [],
   "source": []
  }
 ],
 "metadata": {
  "hide_input": false,
  "kernelspec": {
   "display_name": "Python 3 (ipykernel)",
   "language": "python",
   "name": "python3"
  },
  "language_info": {
   "codemirror_mode": {
    "name": "ipython",
    "version": 3
   },
   "file_extension": ".py",
   "mimetype": "text/x-python",
   "name": "python",
   "nbconvert_exporter": "python",
   "pygments_lexer": "ipython3",
   "version": "3.8.5"
  },
  "toc": {
   "base_numbering": 1,
   "nav_menu": {},
   "number_sections": true,
   "sideBar": true,
   "skip_h1_title": false,
   "title_cell": "Table of Contents",
   "title_sidebar": "Contents",
   "toc_cell": false,
   "toc_position": {},
   "toc_section_display": true,
   "toc_window_display": false
  },
  "varInspector": {
   "cols": {
    "lenName": 16,
    "lenType": 16,
    "lenVar": 40
   },
   "kernels_config": {
    "python": {
     "delete_cmd_postfix": "",
     "delete_cmd_prefix": "del ",
     "library": "var_list.py",
     "varRefreshCmd": "print(var_dic_list())"
    },
    "r": {
     "delete_cmd_postfix": ") ",
     "delete_cmd_prefix": "rm(",
     "library": "var_list.r",
     "varRefreshCmd": "cat(var_dic_list()) "
    }
   },
   "types_to_exclude": [
    "module",
    "function",
    "builtin_function_or_method",
    "instance",
    "_Feature"
   ],
   "window_display": false
  }
 },
 "nbformat": 4,
 "nbformat_minor": 5
}
