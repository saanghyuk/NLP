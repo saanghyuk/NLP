{
 "cells": [
  {
   "cell_type": "code",
   "execution_count": 38,
   "metadata": {
    "ExecuteTime": {
     "end_time": "2021-11-26T18:27:45.429917Z",
     "start_time": "2021-11-26T18:27:45.427588Z"
    }
   },
   "outputs": [],
   "source": [
    "from data_loader_3 import DataLoader"
   ]
  },
  {
   "cell_type": "markdown",
   "metadata": {},
   "source": [
    "## Load TSV data"
   ]
  },
  {
   "cell_type": "code",
   "execution_count": 39,
   "metadata": {
    "ExecuteTime": {
     "end_time": "2021-11-26T18:27:54.727727Z",
     "start_time": "2021-11-26T18:27:46.124211Z"
    }
   },
   "outputs": [],
   "source": [
    "loaders = DataLoader(\n",
    "    train_fn='./review.sorted.uniq.refined.tok.shuf.train.tsv',\n",
    "    batch_size=100000,\n",
    "    valid_ratio=.2,\n",
    "    device=-1,\n",
    "    max_vocab=999999,\n",
    "    min_freq=5,\n",
    ")"
   ]
  },
  {
   "cell_type": "markdown",
   "metadata": {},
   "source": [
    "### Check loader"
   ]
  },
  {
   "cell_type": "code",
   "execution_count": 40,
   "metadata": {
    "ExecuteTime": {
     "end_time": "2021-11-26T18:27:55.025904Z",
     "start_time": "2021-11-26T18:27:55.021948Z"
    },
    "scrolled": true
   },
   "outputs": [
    {
     "name": "stdout",
     "output_type": "stream",
     "text": [
      "|train|=201986\n",
      "|valid|=50497\n"
     ]
    }
   ],
   "source": [
    "print(\"|train|=%d\" % len(loaders.train_loader.dataset))\n",
    "print(\"|valid|=%d\" % len(loaders.valid_loader.dataset))"
   ]
  },
  {
   "cell_type": "code",
   "execution_count": 16,
   "metadata": {
    "ExecuteTime": {
     "end_time": "2021-11-26T18:10:16.534513Z",
     "start_time": "2021-11-26T18:10:16.529550Z"
    }
   },
   "outputs": [
    {
     "name": "stdout",
     "output_type": "stream",
     "text": [
      "<torchtext.legacy.data.example.Example object at 0x7fe6e561cb50>\n"
     ]
    }
   ],
   "source": [
    "for i in loaders.train_loader.dataset:\n",
    "    print(i)\n",
    "    break"
   ]
  },
  {
   "cell_type": "code",
   "execution_count": 41,
   "metadata": {
    "ExecuteTime": {
     "end_time": "2021-11-26T18:27:59.316152Z",
     "start_time": "2021-11-26T18:27:59.312727Z"
    },
    "scrolled": true
   },
   "outputs": [
    {
     "name": "stdout",
     "output_type": "stream",
     "text": [
      "|vocab|=17101\n",
      "|label|=2\n"
     ]
    }
   ],
   "source": [
    "print(\"|vocab|=%d\" % len(loaders.text.vocab))\n",
    "print(\"|label|=%d\" % len(loaders.label.vocab))"
   ]
  },
  {
   "cell_type": "code",
   "execution_count": 72,
   "metadata": {
    "ExecuteTime": {
     "end_time": "2021-11-26T18:34:53.906878Z",
     "start_time": "2021-11-26T18:34:42.251105Z"
    }
   },
   "outputs": [
    {
     "name": "stdout",
     "output_type": "stream",
     "text": [
      "\n",
      "[torchtext.legacy.data.batch.Batch of size 100000]\n",
      "\t[.label]:[torch.LongTensor of size 100000]\n",
      "\t[.text]:[torch.LongTensor of size 100000x159]\n",
      "\n",
      "[torchtext.legacy.data.batch.Batch of size 1986]\n",
      "\t[.label]:[torch.LongTensor of size 1986]\n",
      "\t[.text]:[torch.LongTensor of size 1986x5872]\n",
      "\n",
      "[torchtext.legacy.data.batch.Batch of size 100000]\n",
      "\t[.label]:[torch.LongTensor of size 100000]\n",
      "\t[.text]:[torch.LongTensor of size 100000x17]\n"
     ]
    }
   ],
   "source": [
    "len(loaders.train_loader)\n",
    "for i in loaders.train_loader:\n",
    "    print(i)"
   ]
  },
  {
   "cell_type": "code",
   "execution_count": 73,
   "metadata": {
    "ExecuteTime": {
     "end_time": "2021-11-26T18:53:54.360624Z",
     "start_time": "2021-11-26T18:53:54.356265Z"
    }
   },
   "outputs": [
    {
     "data": {
      "text/plain": [
       "['hi', 'how', 'are', 'you']"
      ]
     },
     "execution_count": 73,
     "metadata": {},
     "output_type": "execute_result"
    }
   ],
   "source": [
    "\"hi,how,are,you\".split(',')"
   ]
  },
  {
   "cell_type": "code",
   "execution_count": null,
   "metadata": {},
   "outputs": [],
   "source": []
  },
  {
   "cell_type": "markdown",
   "metadata": {},
   "source": [
    "### Get mini-batch tensors"
   ]
  },
  {
   "cell_type": "code",
   "execution_count": 22,
   "metadata": {
    "ExecuteTime": {
     "end_time": "2021-11-26T18:11:34.805785Z",
     "start_time": "2021-11-26T18:11:30.533067Z"
    },
    "code_folding": []
   },
   "outputs": [
    {
     "name": "stdout",
     "output_type": "stream",
     "text": [
      "torch.Size([100000, 159])\n",
      "torch.Size([100000])\n"
     ]
    }
   ],
   "source": [
    "# loaders iterator객체로 바꾸고 딱 하나만 받아와 보려고 한 것. \n",
    "data = next(iter(loaders.train_loader))\n",
    "\n",
    "print(data.text.shape)\n",
    "print(data.label.shape)"
   ]
  },
  {
   "cell_type": "code",
   "execution_count": 33,
   "metadata": {
    "ExecuteTime": {
     "end_time": "2021-11-26T18:12:51.426925Z",
     "start_time": "2021-11-26T18:12:51.421048Z"
    }
   },
   "outputs": [
    {
     "data": {
      "text/plain": [
       "tensor([1487, 3259,  290,  735,  355, 2701,   94, 7646, 1521, 1380,    0,  258,\n",
       "           0, 1610, 1208,   67,   21,    3, 3139,  290,  110,  355,  135,   94,\n",
       "          47,   41,   20,    2, 1487, 1272,  976,  229,  220,  535,   34,   51,\n",
       "          66,    0, 1610,  976,    4, 9157,   48,   43,   34,   19,   10,  198,\n",
       "         243,   21,   20,    2,  118,   54,   31,   52,   12,    0, 1610,  976,\n",
       "          24,  457,   23,  118,  229,  149,    5,  288,   13,  207,  138,  358,\n",
       "           4,   50,    7,    2,  153, 2516,  709,  660,    2,    1,    1,    1,\n",
       "           1,    1,    1,    1,    1,    1,    1,    1,    1,    1,    1,    1,\n",
       "           1,    1,    1,    1,    1,    1,    1,    1,    1,    1,    1,    1,\n",
       "           1,    1,    1,    1,    1,    1,    1,    1,    1,    1,    1,    1,\n",
       "           1,    1,    1,    1,    1,    1,    1,    1,    1,    1,    1,    1,\n",
       "           1,    1,    1,    1,    1,    1,    1,    1,    1,    1,    1,    1,\n",
       "           1,    1,    1,    1,    1,    1,    1,    1,    1,    1,    1,    1,\n",
       "           1,    1,    1])"
      ]
     },
     "execution_count": 33,
     "metadata": {},
     "output_type": "execute_result"
    }
   ],
   "source": [
    "data.text[8000]"
   ]
  },
  {
   "cell_type": "code",
   "execution_count": 37,
   "metadata": {
    "ExecuteTime": {
     "end_time": "2021-11-26T18:13:12.472880Z",
     "start_time": "2021-11-26T18:13:12.468541Z"
    }
   },
   "outputs": [
    {
     "data": {
      "text/plain": [
       "'<pad>'"
      ]
     },
     "execution_count": 37,
     "metadata": {},
     "output_type": "execute_result"
    }
   ],
   "source": [
    "loaders.text.vocab.itos[1]"
   ]
  },
  {
   "cell_type": "code",
   "execution_count": 25,
   "metadata": {
    "ExecuteTime": {
     "end_time": "2021-11-26T18:11:49.966529Z",
     "start_time": "2021-11-26T18:11:49.961965Z"
    }
   },
   "outputs": [
    {
     "data": {
      "text/plain": [
       "torch.Size([159])"
      ]
     },
     "execution_count": 25,
     "metadata": {},
     "output_type": "execute_result"
    }
   ],
   "source": [
    "data.text[1].shape"
   ]
  },
  {
   "cell_type": "code",
   "execution_count": null,
   "metadata": {
    "ExecuteTime": {
     "end_time": "2021-11-26T18:11:27.721213Z",
     "start_time": "2021-11-26T18:11:27.721185Z"
    }
   },
   "outputs": [],
   "source": [
    "data"
   ]
  },
  {
   "cell_type": "markdown",
   "metadata": {},
   "source": [
    "### Use vocab"
   ]
  },
  {
   "cell_type": "code",
   "execution_count": 34,
   "metadata": {
    "ExecuteTime": {
     "end_time": "2021-11-26T18:12:53.765189Z",
     "start_time": "2021-11-26T18:12:53.760253Z"
    }
   },
   "outputs": [
    {
     "data": {
      "text/plain": [
       "['UNK',\n",
       " '__class__',\n",
       " '__delattr__',\n",
       " '__dict__',\n",
       " '__dir__',\n",
       " '__doc__',\n",
       " '__eq__',\n",
       " '__format__',\n",
       " '__ge__',\n",
       " '__getattribute__',\n",
       " '__getitem__',\n",
       " '__getstate__',\n",
       " '__gt__',\n",
       " '__hash__',\n",
       " '__init__',\n",
       " '__init_subclass__',\n",
       " '__le__',\n",
       " '__len__',\n",
       " '__lt__',\n",
       " '__module__',\n",
       " '__ne__',\n",
       " '__new__',\n",
       " '__reduce__',\n",
       " '__reduce_ex__',\n",
       " '__repr__',\n",
       " '__setattr__',\n",
       " '__setstate__',\n",
       " '__sizeof__',\n",
       " '__str__',\n",
       " '__subclasshook__',\n",
       " '__weakref__',\n",
       " '_default_unk_index',\n",
       " 'extend',\n",
       " 'freqs',\n",
       " 'itos',\n",
       " 'load_vectors',\n",
       " 'lookup_indices',\n",
       " 'set_vectors',\n",
       " 'stoi',\n",
       " 'unk_index',\n",
       " 'vectors']"
      ]
     },
     "execution_count": 34,
     "metadata": {},
     "output_type": "execute_result"
    }
   ],
   "source": [
    "dir(loaders.text.vocab)"
   ]
  },
  {
   "cell_type": "code",
   "execution_count": 161,
   "metadata": {
    "ExecuteTime": {
     "end_time": "2021-11-23T17:08:30.245474Z",
     "start_time": "2021-11-23T17:08:30.241112Z"
    }
   },
   "outputs": [
    {
     "data": {
      "text/plain": [
       "18"
      ]
     },
     "execution_count": 161,
     "metadata": {},
     "output_type": "execute_result"
    }
   ],
   "source": [
    "# 단어를 integer로 어디에 있는지 index를 뱉어주는 것\n",
    "loaders.text.vocab.stoi['배송']"
   ]
  },
  {
   "cell_type": "code",
   "execution_count": 162,
   "metadata": {
    "ExecuteTime": {
     "end_time": "2021-11-23T17:08:30.941722Z",
     "start_time": "2021-11-23T17:08:30.937473Z"
    }
   },
   "outputs": [
    {
     "data": {
      "text/plain": [
       "'배송'"
      ]
     },
     "execution_count": 162,
     "metadata": {},
     "output_type": "execute_result"
    }
   ],
   "source": [
    "loaders.text.vocab.itos[18]"
   ]
  },
  {
   "cell_type": "markdown",
   "metadata": {},
   "source": [
    "#### Check most frequent words"
   ]
  },
  {
   "cell_type": "code",
   "execution_count": 163,
   "metadata": {
    "ExecuteTime": {
     "end_time": "2021-11-23T17:08:31.867016Z",
     "start_time": "2021-11-23T17:08:31.861529Z"
    }
   },
   "outputs": [
    {
     "name": "stdout",
     "output_type": "stream",
     "text": [
      "    0: <unk>\t0\n",
      "    1: <pad>\t0\n",
      "    2: .\t241442\n",
      "    3: 고\t139213\n",
      "    4: 이\t132829\n",
      "    5: 하\t113992\n",
      "    6: 도\t94430\n",
      "    7: 네요\t92009\n",
      "    8: 좋\t89304\n",
      "    9: 에\t85781\n",
      "   10: 는\t79805\n",
      "   11: 가\t64950\n",
      "   12: 은\t61540\n",
      "   13: 는데\t52538\n",
      "   14: 아요\t49763\n",
      "   15: 게\t49750\n",
      "   16: 잘\t48971\n",
      "   17: 어요\t46629\n",
      "   18: 배송\t43949\n",
      "   19: 있\t41822\n",
      "   20: 습니다\t39623\n",
      "   21: 했\t39286\n",
      "   22: 안\t35661\n",
      "   23: 을\t35035\n",
      "   24: 한\t33243\n",
      "   25: ~\t30858\n",
      "   26: 구매\t29302\n",
      "   27: 같\t28026\n",
      "   28: 거\t27175\n",
      "   29: 너무\t27174\n",
      "   30: 합니다\t27021\n",
      "   31: 지\t26504\n",
      "   32: ..\t25004\n",
      "   33: !\t24340\n",
      "   34: 어\t24190\n",
      "   35: ,\t23673\n",
      "   36: 다\t23662\n",
      "   37: 가격\t22834\n",
      "   38: 되\t22464\n",
      "   39: ?\t22126\n",
      "   40: 것\t21519\n",
      "   41: 들\t21178\n",
      "   42: 제품\t20966\n",
      "   43: 았\t20936\n",
      "   44: 으로\t20634\n",
      "   45: 쓰\t20388\n",
      "   46: 아\t20320\n",
      "   47: 만\t20080\n",
      "   48: 받\t19967\n",
      "   49: 로\t19686\n"
     ]
    }
   ],
   "source": [
    "for i in range(50):\n",
    "    word = loaders.text.vocab.itos[i]\n",
    "    print('%5d: %s\\t%d' % (i, word, loaders.text.vocab.freqs[word]))"
   ]
  },
  {
   "cell_type": "markdown",
   "metadata": {},
   "source": [
    "#### Restore text from tensor"
   ]
  },
  {
   "cell_type": "code",
   "execution_count": 82,
   "metadata": {
    "ExecuteTime": {
     "end_time": "2021-11-23T16:49:48.477857Z",
     "start_time": "2021-11-23T16:49:48.473620Z"
    },
    "scrolled": true
   },
   "outputs": [
    {
     "name": "stdout",
     "output_type": "stream",
     "text": [
      "tensor([   80,   942,    11,  3708,   633,    44,    38,    34,    19,    79,\n",
      "          401,   432,    44,  2465,     4,    22,    11,    63,    26,    21,\n",
      "           13,  4679,   942,   334,  1124,     7,     2,   648,    11,  1358,\n",
      "            5,     3,   817,    12,   648,     9, 13703,    39,  1981,    19,\n",
      "            7,     2,     9,  2791,    25,     1,     1])\n"
     ]
    }
   ],
   "source": [
    "print(data.text[-1])"
   ]
  },
  {
   "cell_type": "code",
   "execution_count": 84,
   "metadata": {
    "ExecuteTime": {
     "end_time": "2021-11-23T16:50:09.336818Z",
     "start_time": "2021-11-23T16:50:09.331448Z"
    }
   },
   "outputs": [
    {
     "data": {
      "text/plain": [
       "47"
      ]
     },
     "execution_count": 84,
     "metadata": {},
     "output_type": "execute_result"
    }
   ],
   "source": [
    "len(data.text[-1])"
   ]
  },
  {
   "cell_type": "code",
   "execution_count": 83,
   "metadata": {
    "ExecuteTime": {
     "end_time": "2021-11-23T16:49:49.828171Z",
     "start_time": "2021-11-23T16:49:49.823025Z"
    }
   },
   "outputs": [
    {
     "name": "stdout",
     "output_type": "stream",
     "text": [
      "상품 소재 가 인조 가죽 으로 되 어 있 어서 화면 상 으로 구분 이 안 가 서 구매 했 는데 나일론 소재 라서 놀랐 네요 . 지퍼 가 뻑뻑 하 고 안쪽 은 지퍼 에 물려서 ? 껴 있 네요 . 에 효 ~ <pad> <pad>\n"
     ]
    }
   ],
   "source": [
    "x = data.text[-1]\n",
    "line = []\n",
    "for x_i in x:\n",
    "    line += [loaders.text.vocab.itos[x_i]]\n",
    "    \n",
    "print(' '.join(line))"
   ]
  },
  {
   "cell_type": "code",
   "execution_count": null,
   "metadata": {},
   "outputs": [],
   "source": []
  }
 ],
 "metadata": {
  "hide_input": false,
  "kernelspec": {
   "display_name": "Python 3 (ipykernel)",
   "language": "python",
   "name": "python3"
  },
  "language_info": {
   "codemirror_mode": {
    "name": "ipython",
    "version": 3
   },
   "file_extension": ".py",
   "mimetype": "text/x-python",
   "name": "python",
   "nbconvert_exporter": "python",
   "pygments_lexer": "ipython3",
   "version": "3.8.5"
  },
  "toc": {
   "base_numbering": 1,
   "nav_menu": {},
   "number_sections": true,
   "sideBar": true,
   "skip_h1_title": false,
   "title_cell": "Table of Contents",
   "title_sidebar": "Contents",
   "toc_cell": false,
   "toc_position": {},
   "toc_section_display": true,
   "toc_window_display": false
  },
  "varInspector": {
   "cols": {
    "lenName": 16,
    "lenType": 16,
    "lenVar": 40
   },
   "kernels_config": {
    "python": {
     "delete_cmd_postfix": "",
     "delete_cmd_prefix": "del ",
     "library": "var_list.py",
     "varRefreshCmd": "print(var_dic_list())"
    },
    "r": {
     "delete_cmd_postfix": ") ",
     "delete_cmd_prefix": "rm(",
     "library": "var_list.r",
     "varRefreshCmd": "cat(var_dic_list()) "
    }
   },
   "types_to_exclude": [
    "module",
    "function",
    "builtin_function_or_method",
    "instance",
    "_Feature"
   ],
   "window_display": false
  }
 },
 "nbformat": 4,
 "nbformat_minor": 4
}
