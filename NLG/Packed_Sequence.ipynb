{
 "cells": [
  {
   "cell_type": "markdown",
   "id": "ef80894f",
   "metadata": {},
   "source": [
    "### [Reference Stackoverflow](https://stackoverflow.com/questions/51030782/why-do-we-pack-the-sequences-in-pytorch)"
   ]
  },
  {
   "cell_type": "code",
   "execution_count": 2,
   "id": "9c16cbe2",
   "metadata": {
    "ExecuteTime": {
     "end_time": "2021-11-29T16:51:35.409117Z",
     "start_time": "2021-11-29T16:51:35.406110Z"
    }
   },
   "outputs": [],
   "source": [
    "import torch\n",
    "import torch.nn as nn\n",
    "from torch.nn.utils.rnn import pack_padded_sequence\n",
    "from torch.nn.utils.rnn import pad_packed_sequence"
   ]
  },
  {
   "cell_type": "code",
   "execution_count": 3,
   "id": "1abc7196",
   "metadata": {
    "ExecuteTime": {
     "end_time": "2021-11-29T16:51:36.599461Z",
     "start_time": "2021-11-29T16:51:36.595742Z"
    }
   },
   "outputs": [],
   "source": [
    "import torch \n",
    "\n",
    "seq_batch = [torch.tensor([[1, 1],\n",
    "                           [2, 2],\n",
    "                           [3, 3],\n",
    "                           [4, 4],\n",
    "                           [5, 5]]),\n",
    "             torch.tensor([[10, 10],\n",
    "                           [20, 20]])]\n",
    "\n",
    "seq_lens = [5, 2]"
   ]
  },
  {
   "cell_type": "code",
   "execution_count": 4,
   "id": "35271093",
   "metadata": {
    "ExecuteTime": {
     "end_time": "2021-11-29T16:51:39.116289Z",
     "start_time": "2021-11-29T16:51:39.108867Z"
    },
    "code_folding": [
     10
    ]
   },
   "outputs": [
    {
     "data": {
      "text/plain": [
       "'\\n>>>padded_seq_batch\\ntensor([[[ 1,  1],\\n         [ 2,  2],\\n         [ 3,  3],\\n         [ 4,  4],\\n         [ 5,  5]],\\n\\n        [[10, 10],\\n         [20, 20],\\n         [ 0,  0],\\n         [ 0,  0],\\n         [ 0,  0]]])\\n'"
      ]
     },
     "execution_count": 4,
     "metadata": {},
     "output_type": "execute_result"
    }
   ],
   "source": [
    "# pad the seq_batch\n",
    "padded_seq_batch = torch.nn.utils.rnn.pad_sequence(seq_batch, batch_first=True)\n",
    "\"\"\"\n",
    ">>>padded_seq_batch\n",
    "tensor([[[ 1,  1],\n",
    "         [ 2,  2],\n",
    "         [ 3,  3],\n",
    "         [ 4,  4],\n",
    "         [ 5,  5]],\n",
    "\n",
    "        [[10, 10],\n",
    "         [20, 20],\n",
    "         [ 0,  0],\n",
    "         [ 0,  0],\n",
    "         [ 0,  0]]])\n",
    "\"\"\""
   ]
  },
  {
   "cell_type": "code",
   "execution_count": 15,
   "id": "6eeac294",
   "metadata": {
    "ExecuteTime": {
     "end_time": "2021-11-30T06:50:31.252251Z",
     "start_time": "2021-11-30T06:50:31.246288Z"
    }
   },
   "outputs": [
    {
     "data": {
      "text/plain": [
       "tensor([[[ 1,  1],\n",
       "         [ 2,  2],\n",
       "         [ 3,  3],\n",
       "         [ 4,  4],\n",
       "         [ 5,  5]],\n",
       "\n",
       "        [[10, 10],\n",
       "         [20, 20],\n",
       "         [ 0,  0],\n",
       "         [ 0,  0],\n",
       "         [ 0,  0]]])"
      ]
     },
     "execution_count": 15,
     "metadata": {},
     "output_type": "execute_result"
    }
   ],
   "source": [
    "padded_seq_batch"
   ]
  },
  {
   "cell_type": "code",
   "execution_count": 16,
   "id": "31b417a6",
   "metadata": {
    "ExecuteTime": {
     "end_time": "2021-11-30T06:50:32.647847Z",
     "start_time": "2021-11-30T06:50:32.641438Z"
    }
   },
   "outputs": [
    {
     "data": {
      "text/plain": [
       "PackedSequence(data=tensor([[ 1,  1],\n",
       "        [10, 10],\n",
       "        [ 2,  2],\n",
       "        [20, 20],\n",
       "        [ 3,  3],\n",
       "        [ 4,  4],\n",
       "        [ 5,  5]]), batch_sizes=tensor([2, 2, 1, 1, 1]), sorted_indices=None, unsorted_indices=None)"
      ]
     },
     "execution_count": 16,
     "metadata": {},
     "output_type": "execute_result"
    }
   ],
   "source": [
    "# pack the padded_seq_batch\n",
    "packed_seq_batch = torch.nn.utils.rnn.pack_padded_sequence(padded_seq_batch, lengths=seq_lens, batch_first=True)\n",
    "\"\"\"\n",
    ">>> packed_seq_batch\n",
    "PackedSequence(\n",
    "   data=tensor([[ 1,  1],\n",
    "                [10, 10],\n",
    "                [ 2,  2],\n",
    "                [20, 20],\n",
    "                [ 3,  3],\n",
    "                [ 4,  4],\n",
    "                [ 5,  5]]), \n",
    "   batch_sizes=tensor([2, 2, 1, 1, 1]))\n",
    "\"\"\"\n",
    "packed_seq_batch"
   ]
  },
  {
   "cell_type": "code",
   "execution_count": 8,
   "id": "cbc2e37e",
   "metadata": {
    "ExecuteTime": {
     "end_time": "2021-11-29T16:55:17.097316Z",
     "start_time": "2021-11-29T16:55:17.091492Z"
    }
   },
   "outputs": [],
   "source": [
    "# input size : input vector size of each time stamp\n",
    "# hidden size : hidden vector size(output)\n",
    "lstm = nn.LSTM(input_size=2, hidden_size=3, batch_first=True)\n",
    "output, (hn, cn) = lstm(packed_seq_batch.float())"
   ]
  },
  {
   "cell_type": "code",
   "execution_count": 9,
   "id": "6fb872f6",
   "metadata": {
    "ExecuteTime": {
     "end_time": "2021-11-29T16:55:19.235117Z",
     "start_time": "2021-11-29T16:55:19.229848Z"
    }
   },
   "outputs": [
    {
     "data": {
      "text/plain": [
       "PackedSequence(data=tensor([[9.6369e-03, 7.6992e-02, 1.3758e-02],\n",
       "        [1.0080e-01, 3.6183e-03, 1.9047e-05],\n",
       "        [9.7091e-02, 1.1201e-01, 4.0262e-02],\n",
       "        [2.7153e-02, 3.2999e-03, 2.0086e-05],\n",
       "        [1.4345e-01, 1.2920e-01, 5.7135e-02],\n",
       "        [1.5237e-01, 1.3640e-01, 6.6257e-02],\n",
       "        [1.4731e-01, 1.3819e-01, 7.1561e-02]], grad_fn=<CatBackward0>), batch_sizes=tensor([2, 2, 1, 1, 1]), sorted_indices=None, unsorted_indices=None)"
      ]
     },
     "execution_count": 9,
     "metadata": {},
     "output_type": "execute_result"
    }
   ],
   "source": [
    "output"
   ]
  },
  {
   "cell_type": "code",
   "execution_count": 10,
   "id": "3a300567",
   "metadata": {
    "ExecuteTime": {
     "end_time": "2021-11-29T16:55:22.328357Z",
     "start_time": "2021-11-29T16:55:22.323392Z"
    }
   },
   "outputs": [
    {
     "data": {
      "text/plain": [
       "tensor([[[1.4731e-01, 1.3819e-01, 7.1561e-02],\n",
       "         [2.7153e-02, 3.2999e-03, 2.0086e-05]]], grad_fn=<StackBackward0>)"
      ]
     },
     "execution_count": 10,
     "metadata": {},
     "output_type": "execute_result"
    }
   ],
   "source": [
    "hn"
   ]
  },
  {
   "cell_type": "code",
   "execution_count": 11,
   "id": "b0fe33c7",
   "metadata": {
    "ExecuteTime": {
     "end_time": "2021-11-29T16:55:23.949439Z",
     "start_time": "2021-11-29T16:55:23.944977Z"
    }
   },
   "outputs": [
    {
     "data": {
      "text/plain": [
       "tensor([[[5.0977e-01, 6.1316e-01, 9.3382e-02],\n",
       "         [9.1511e-01, 1.6663e-02, 2.0128e-05]]], grad_fn=<StackBackward0>)"
      ]
     },
     "execution_count": 11,
     "metadata": {},
     "output_type": "execute_result"
    }
   ],
   "source": [
    "cn"
   ]
  },
  {
   "cell_type": "code",
   "execution_count": 12,
   "id": "9697fe9d",
   "metadata": {
    "ExecuteTime": {
     "end_time": "2021-11-29T17:00:29.391914Z",
     "start_time": "2021-11-29T17:00:29.388606Z"
    }
   },
   "outputs": [],
   "source": [
    "padded_output, output_lens = torch.nn.utils.rnn.pad_packed_sequence(output, batch_first=True)"
   ]
  },
  {
   "cell_type": "code",
   "execution_count": 13,
   "id": "afc75e14",
   "metadata": {
    "ExecuteTime": {
     "end_time": "2021-11-29T17:00:33.680644Z",
     "start_time": "2021-11-29T17:00:33.675112Z"
    }
   },
   "outputs": [
    {
     "data": {
      "text/plain": [
       "tensor([[[9.6369e-03, 7.6992e-02, 1.3758e-02],\n",
       "         [9.7091e-02, 1.1201e-01, 4.0262e-02],\n",
       "         [1.4345e-01, 1.2920e-01, 5.7135e-02],\n",
       "         [1.5237e-01, 1.3640e-01, 6.6257e-02],\n",
       "         [1.4731e-01, 1.3819e-01, 7.1561e-02]],\n",
       "\n",
       "        [[1.0080e-01, 3.6183e-03, 1.9047e-05],\n",
       "         [2.7153e-02, 3.2999e-03, 2.0086e-05],\n",
       "         [0.0000e+00, 0.0000e+00, 0.0000e+00],\n",
       "         [0.0000e+00, 0.0000e+00, 0.0000e+00],\n",
       "         [0.0000e+00, 0.0000e+00, 0.0000e+00]]], grad_fn=<TransposeBackward0>)"
      ]
     },
     "execution_count": 13,
     "metadata": {},
     "output_type": "execute_result"
    }
   ],
   "source": [
    "padded_output"
   ]
  },
  {
   "cell_type": "code",
   "execution_count": 14,
   "id": "2cb25a95",
   "metadata": {
    "ExecuteTime": {
     "end_time": "2021-11-29T17:00:50.118304Z",
     "start_time": "2021-11-29T17:00:50.112605Z"
    }
   },
   "outputs": [
    {
     "data": {
      "text/plain": [
       "tensor([5, 2])"
      ]
     },
     "execution_count": 14,
     "metadata": {},
     "output_type": "execute_result"
    }
   ],
   "source": [
    "output_lens"
   ]
  },
  {
   "cell_type": "code",
   "execution_count": null,
   "id": "3a45c4c1",
   "metadata": {},
   "outputs": [],
   "source": []
  },
  {
   "cell_type": "code",
   "execution_count": null,
   "id": "b7d3d6ed",
   "metadata": {},
   "outputs": [],
   "source": []
  },
  {
   "cell_type": "code",
   "execution_count": 81,
   "id": "0dc17894",
   "metadata": {
    "ExecuteTime": {
     "end_time": "2021-12-04T19:27:14.146504Z",
     "start_time": "2021-12-04T19:27:14.139794Z"
    }
   },
   "outputs": [
    {
     "data": {
      "text/plain": [
       "tensor([0., -inf, -inf, -inf, -inf])"
      ]
     },
     "execution_count": 81,
     "metadata": {},
     "output_type": "execute_result"
    }
   ],
   "source": [
    "cumulative_probs = [torch.FloatTensor([.0] + [-float('inf')] * (5 - 1))]\n",
    "a = cumulative_probs + cumulative_probs\n",
    "a[-1]"
   ]
  },
  {
   "cell_type": "code",
   "execution_count": 49,
   "id": "7401af0f",
   "metadata": {
    "ExecuteTime": {
     "end_time": "2021-12-04T18:22:32.344604Z",
     "start_time": "2021-12-04T18:22:32.339377Z"
    }
   },
   "outputs": [
    {
     "data": {
      "text/plain": [
       "[tensor([False, False, False, False, False])]"
      ]
     },
     "execution_count": 49,
     "metadata": {},
     "output_type": "execute_result"
    }
   ],
   "source": [
    "masks = [torch.BoolTensor(5).zero_()]\n",
    "masks"
   ]
  },
  {
   "cell_type": "code",
   "execution_count": 79,
   "id": "492557d9",
   "metadata": {
    "ExecuteTime": {
     "end_time": "2021-12-04T19:26:38.723916Z",
     "start_time": "2021-12-04T19:26:38.712288Z"
    }
   },
   "outputs": [
    {
     "ename": "TypeError",
     "evalue": "eq() received an invalid combination of arguments - got (str, int), but expected one of:\n * (Tensor input, Tensor other, *, Tensor out)\n * (Tensor input, Number other, *, Tensor out)\n",
     "output_type": "error",
     "traceback": [
      "\u001b[0;31m---------------------------------------------------------------------------\u001b[0m",
      "\u001b[0;31mTypeError\u001b[0m                                 Traceback (most recent call last)",
      "\u001b[0;32m/var/folders/zv/bq3zr8t97_12jyw8m8jbgwyc0000gn/T/ipykernel_9018/1858507971.py\u001b[0m in \u001b[0;36m<module>\u001b[0;34m\u001b[0m\n\u001b[0;32m----> 1\u001b[0;31m \u001b[0mmasks\u001b[0m \u001b[0;34m+\u001b[0m \u001b[0;34m[\u001b[0m\u001b[0mtorch\u001b[0m\u001b[0;34m.\u001b[0m\u001b[0meq\u001b[0m\u001b[0;34m(\u001b[0m\u001b[0;34m(\u001b[0m\u001b[0;34m\"hi\"\u001b[0m\u001b[0;34m)\u001b[0m\u001b[0;34m,\u001b[0m \u001b[0;36m1\u001b[0m\u001b[0;34m)\u001b[0m\u001b[0;34m]\u001b[0m\u001b[0;34m\u001b[0m\u001b[0;34m\u001b[0m\u001b[0m\n\u001b[0m",
      "\u001b[0;31mTypeError\u001b[0m: eq() received an invalid combination of arguments - got (str, int), but expected one of:\n * (Tensor input, Tensor other, *, Tensor out)\n * (Tensor input, Number other, *, Tensor out)\n"
     ]
    }
   ],
   "source": [
    "torch"
   ]
  },
  {
   "cell_type": "code",
   "execution_count": 50,
   "id": "a29a077f",
   "metadata": {
    "ExecuteTime": {
     "end_time": "2021-12-04T18:23:03.263469Z",
     "start_time": "2021-12-04T18:23:03.253270Z"
    }
   },
   "outputs": [
    {
     "data": {
      "text/plain": [
       "tensor([0., -inf, -inf, -inf, -inf])"
      ]
     },
     "execution_count": 50,
     "metadata": {},
     "output_type": "execute_result"
    }
   ],
   "source": [
    "cumulative_probs[-1].masked_fill_(masks[-1], -float('inf'))"
   ]
  },
  {
   "cell_type": "code",
   "execution_count": 54,
   "id": "e05a9303",
   "metadata": {
    "ExecuteTime": {
     "end_time": "2021-12-04T18:29:06.557518Z",
     "start_time": "2021-12-04T18:29:06.547443Z"
    }
   },
   "outputs": [
    {
     "data": {
      "text/plain": [
       "tensor([[[5., 5., 5., 5., 5., 5., 5., 5., 5., 5., 5., 5., 5., 5., 5., 5., 5.,\n",
       "          5., 5., 5., 5., 5., 5., 5., 5., 5., 5., 5., 5., 5., 5., 5., 5., 5.,\n",
       "          5., 5., 5., 5., 5., 5., 5., 5., 5., 5., 5., 5., 5., 5., 5., 5., 5.,\n",
       "          5., 5., 5., 5., 5., 5., 5., 5., 5., 5., 5., 5., 5., 5., 5., 5., 5.,\n",
       "          5., 5., 5., 5., 5., 5., 5., 5., 5., 5., 5., 5., 5., 5., 5., 5., 5.,\n",
       "          5., 5., 5., 5., 5., 5., 5., 5., 5., 5., 5., 5., 5., 5., 5.]],\n",
       "\n",
       "        [[-inf, -inf, -inf, -inf, -inf, -inf, -inf, -inf, -inf, -inf, -inf, -inf, -inf, -inf, -inf, -inf, -inf,\n",
       "          -inf, -inf, -inf, -inf, -inf, -inf, -inf, -inf, -inf, -inf, -inf, -inf, -inf, -inf, -inf, -inf, -inf,\n",
       "          -inf, -inf, -inf, -inf, -inf, -inf, -inf, -inf, -inf, -inf, -inf, -inf, -inf, -inf, -inf, -inf, -inf,\n",
       "          -inf, -inf, -inf, -inf, -inf, -inf, -inf, -inf, -inf, -inf, -inf, -inf, -inf, -inf, -inf, -inf, -inf,\n",
       "          -inf, -inf, -inf, -inf, -inf, -inf, -inf, -inf, -inf, -inf, -inf, -inf, -inf, -inf, -inf, -inf, -inf,\n",
       "          -inf, -inf, -inf, -inf, -inf, -inf, -inf, -inf, -inf, -inf, -inf, -inf, -inf, -inf, -inf]],\n",
       "\n",
       "        [[8., 8., 8., 8., 8., 8., 8., 8., 8., 8., 8., 8., 8., 8., 8., 8., 8.,\n",
       "          8., 8., 8., 8., 8., 8., 8., 8., 8., 8., 8., 8., 8., 8., 8., 8., 8.,\n",
       "          8., 8., 8., 8., 8., 8., 8., 8., 8., 8., 8., 8., 8., 8., 8., 8., 8.,\n",
       "          8., 8., 8., 8., 8., 8., 8., 8., 8., 8., 8., 8., 8., 8., 8., 8., 8.,\n",
       "          8., 8., 8., 8., 8., 8., 8., 8., 8., 8., 8., 8., 8., 8., 8., 8., 8.,\n",
       "          8., 8., 8., 8., 8., 8., 8., 8., 8., 8., 8., 8., 8., 8., 8.]],\n",
       "\n",
       "        [[6., 6., 6., 6., 6., 6., 6., 6., 6., 6., 6., 6., 6., 6., 6., 6., 6.,\n",
       "          6., 6., 6., 6., 6., 6., 6., 6., 6., 6., 6., 6., 6., 6., 6., 6., 6.,\n",
       "          6., 6., 6., 6., 6., 6., 6., 6., 6., 6., 6., 6., 6., 6., 6., 6., 6.,\n",
       "          6., 6., 6., 6., 6., 6., 6., 6., 6., 6., 6., 6., 6., 6., 6., 6., 6.,\n",
       "          6., 6., 6., 6., 6., 6., 6., 6., 6., 6., 6., 6., 6., 6., 6., 6., 6.,\n",
       "          6., 6., 6., 6., 6., 6., 6., 6., 6., 6., 6., 6., 6., 6., 6.]],\n",
       "\n",
       "        [[-inf, -inf, -inf, -inf, -inf, -inf, -inf, -inf, -inf, -inf, -inf, -inf, -inf, -inf, -inf, -inf, -inf,\n",
       "          -inf, -inf, -inf, -inf, -inf, -inf, -inf, -inf, -inf, -inf, -inf, -inf, -inf, -inf, -inf, -inf, -inf,\n",
       "          -inf, -inf, -inf, -inf, -inf, -inf, -inf, -inf, -inf, -inf, -inf, -inf, -inf, -inf, -inf, -inf, -inf,\n",
       "          -inf, -inf, -inf, -inf, -inf, -inf, -inf, -inf, -inf, -inf, -inf, -inf, -inf, -inf, -inf, -inf, -inf,\n",
       "          -inf, -inf, -inf, -inf, -inf, -inf, -inf, -inf, -inf, -inf, -inf, -inf, -inf, -inf, -inf, -inf, -inf,\n",
       "          -inf, -inf, -inf, -inf, -inf, -inf, -inf, -inf, -inf, -inf, -inf, -inf, -inf, -inf, -inf]]])"
      ]
     },
     "execution_count": 54,
     "metadata": {},
     "output_type": "execute_result"
    }
   ],
   "source": [
    "torch.FloatTensor([5, -float('inf'), 8, 6, -float(\"inf\")]).view(-1, 1, 1).expand(5, 1, 100)"
   ]
  },
  {
   "cell_type": "code",
   "execution_count": 57,
   "id": "36a8aa9c",
   "metadata": {
    "ExecuteTime": {
     "end_time": "2021-12-04T18:31:21.834287Z",
     "start_time": "2021-12-04T18:31:21.819169Z"
    }
   },
   "outputs": [
    {
     "data": {
      "text/plain": [
       "tensor([[[5., 5., 5., 5., 5., 5., 5., 5., 5., 5., 5., 5., 5., 5., 5., 5., 5.,\n",
       "          5., 5., 5., 5., 5., 5., 5., 5., 5., 5., 5., 5., 5., 5., 5., 5., 5.,\n",
       "          5., 5., 5., 5., 5., 5., 5., 5., 5., 5., 5., 5., 5., 5., 5., 5., 5.,\n",
       "          5., 5., 5., 5., 5., 5., 5., 5., 5., 5., 5., 5., 5., 5., 5., 5., 5.,\n",
       "          5., 5., 5., 5., 5., 5., 5., 5., 5., 5., 5., 5., 5., 5., 5., 5., 5.,\n",
       "          5., 5., 5., 5., 5., 5., 5., 5., 5., 5., 5., 5., 5., 5., 5.]],\n",
       "\n",
       "        [[-inf, -inf, -inf, -inf, -inf, -inf, -inf, -inf, -inf, -inf, -inf, -inf, -inf, -inf, -inf, -inf, -inf,\n",
       "          -inf, -inf, -inf, -inf, -inf, -inf, -inf, -inf, -inf, -inf, -inf, -inf, -inf, -inf, -inf, -inf, -inf,\n",
       "          -inf, -inf, -inf, -inf, -inf, -inf, -inf, -inf, -inf, -inf, -inf, -inf, -inf, -inf, -inf, -inf, -inf,\n",
       "          -inf, -inf, -inf, -inf, -inf, -inf, -inf, -inf, -inf, -inf, -inf, -inf, -inf, -inf, -inf, -inf, -inf,\n",
       "          -inf, -inf, -inf, -inf, -inf, -inf, -inf, -inf, -inf, -inf, -inf, -inf, -inf, -inf, -inf, -inf, -inf,\n",
       "          -inf, -inf, -inf, -inf, -inf, -inf, -inf, -inf, -inf, -inf, -inf, -inf, -inf, -inf, -inf]],\n",
       "\n",
       "        [[8., 8., 8., 8., 8., 8., 8., 8., 8., 8., 8., 8., 8., 8., 8., 8., 8.,\n",
       "          8., 8., 8., 8., 8., 8., 8., 8., 8., 8., 8., 8., 8., 8., 8., 8., 8.,\n",
       "          8., 8., 8., 8., 8., 8., 8., 8., 8., 8., 8., 8., 8., 8., 8., 8., 8.,\n",
       "          8., 8., 8., 8., 8., 8., 8., 8., 8., 8., 8., 8., 8., 8., 8., 8., 8.,\n",
       "          8., 8., 8., 8., 8., 8., 8., 8., 8., 8., 8., 8., 8., 8., 8., 8., 8.,\n",
       "          8., 8., 8., 8., 8., 8., 8., 8., 8., 8., 8., 8., 8., 8., 8.]],\n",
       "\n",
       "        [[6., 6., 6., 6., 6., 6., 6., 6., 6., 6., 6., 6., 6., 6., 6., 6., 6.,\n",
       "          6., 6., 6., 6., 6., 6., 6., 6., 6., 6., 6., 6., 6., 6., 6., 6., 6.,\n",
       "          6., 6., 6., 6., 6., 6., 6., 6., 6., 6., 6., 6., 6., 6., 6., 6., 6.,\n",
       "          6., 6., 6., 6., 6., 6., 6., 6., 6., 6., 6., 6., 6., 6., 6., 6., 6.,\n",
       "          6., 6., 6., 6., 6., 6., 6., 6., 6., 6., 6., 6., 6., 6., 6., 6., 6.,\n",
       "          6., 6., 6., 6., 6., 6., 6., 6., 6., 6., 6., 6., 6., 6., 6.]],\n",
       "\n",
       "        [[-inf, -inf, -inf, -inf, -inf, -inf, -inf, -inf, -inf, -inf, -inf, -inf, -inf, -inf, -inf, -inf, -inf,\n",
       "          -inf, -inf, -inf, -inf, -inf, -inf, -inf, -inf, -inf, -inf, -inf, -inf, -inf, -inf, -inf, -inf, -inf,\n",
       "          -inf, -inf, -inf, -inf, -inf, -inf, -inf, -inf, -inf, -inf, -inf, -inf, -inf, -inf, -inf, -inf, -inf,\n",
       "          -inf, -inf, -inf, -inf, -inf, -inf, -inf, -inf, -inf, -inf, -inf, -inf, -inf, -inf, -inf, -inf, -inf,\n",
       "          -inf, -inf, -inf, -inf, -inf, -inf, -inf, -inf, -inf, -inf, -inf, -inf, -inf, -inf, -inf, -inf, -inf,\n",
       "          -inf, -inf, -inf, -inf, -inf, -inf, -inf, -inf, -inf, -inf, -inf, -inf, -inf, -inf, -inf]]])"
      ]
     },
     "execution_count": 57,
     "metadata": {},
     "output_type": "execute_result"
    }
   ],
   "source": [
    "torch.FloatTensor([5, -float('inf'), 8, 6, -float(\"inf\")]).view(-1, 1, 1).expand(5, 1, 100)"
   ]
  },
  {
   "cell_type": "code",
   "execution_count": 73,
   "id": "684eff87",
   "metadata": {
    "ExecuteTime": {
     "end_time": "2021-12-04T18:35:39.072193Z",
     "start_time": "2021-12-04T18:35:39.062686Z"
    }
   },
   "outputs": [
    {
     "data": {
      "text/plain": [
       "tensor([[[5., 5., 5., 5., 5., 5., 5., 5., 5., 5., 5., 5., 5., 5., 5., 5., 5.,\n",
       "          5., 5., 5., 5., 5., 5., 5., 5., 5., 5., 5., 5., 5., 5., 5., 5., 5.,\n",
       "          5., 5., 5., 5., 5., 5., 5., 5., 5., 5., 5., 5., 5., 5., 5., 5., 5.,\n",
       "          5., 5., 5., 5., 5., 5., 5., 5., 5., 5., 5., 5., 5., 5., 5., 5., 5.,\n",
       "          5., 5., 5., 5., 5., 5., 5., 5., 5., 5., 5., 5., 5., 5., 5., 5., 5.,\n",
       "          5., 5., 5., 5., 5., 5., 5., 5., 5., 5., 5., 5., 5., 5., 5.]],\n",
       "\n",
       "        [[-inf, -inf, -inf, -inf, -inf, -inf, -inf, -inf, -inf, -inf, -inf, -inf, -inf, -inf, -inf, -inf, -inf,\n",
       "          -inf, -inf, -inf, -inf, -inf, -inf, -inf, -inf, -inf, -inf, -inf, -inf, -inf, -inf, -inf, -inf, -inf,\n",
       "          -inf, -inf, -inf, -inf, -inf, -inf, -inf, -inf, -inf, -inf, -inf, -inf, -inf, -inf, -inf, -inf, -inf,\n",
       "          -inf, -inf, -inf, -inf, -inf, -inf, -inf, -inf, -inf, -inf, -inf, -inf, -inf, -inf, -inf, -inf, -inf,\n",
       "          -inf, -inf, -inf, -inf, -inf, -inf, -inf, -inf, -inf, -inf, -inf, -inf, -inf, -inf, -inf, -inf, -inf,\n",
       "          -inf, -inf, -inf, -inf, -inf, -inf, -inf, -inf, -inf, -inf, -inf, -inf, -inf, -inf, -inf]],\n",
       "\n",
       "        [[8., 8., 8., 8., 8., 8., 8., 8., 8., 8., 8., 8., 8., 8., 8., 8., 8.,\n",
       "          8., 8., 8., 8., 8., 8., 8., 8., 8., 8., 8., 8., 8., 8., 8., 8., 8.,\n",
       "          8., 8., 8., 8., 8., 8., 8., 8., 8., 8., 8., 8., 8., 8., 8., 8., 8.,\n",
       "          8., 8., 8., 8., 8., 8., 8., 8., 8., 8., 8., 8., 8., 8., 8., 8., 8.,\n",
       "          8., 8., 8., 8., 8., 8., 8., 8., 8., 8., 8., 8., 8., 8., 8., 8., 8.,\n",
       "          8., 8., 8., 8., 8., 8., 8., 8., 8., 8., 8., 8., 8., 8., 8.]],\n",
       "\n",
       "        [[6., 6., 6., 6., 6., 6., 6., 6., 6., 6., 6., 6., 6., 6., 6., 6., 6.,\n",
       "          6., 6., 6., 6., 6., 6., 6., 6., 6., 6., 6., 6., 6., 6., 6., 6., 6.,\n",
       "          6., 6., 6., 6., 6., 6., 6., 6., 6., 6., 6., 6., 6., 6., 6., 6., 6.,\n",
       "          6., 6., 6., 6., 6., 6., 6., 6., 6., 6., 6., 6., 6., 6., 6., 6., 6.,\n",
       "          6., 6., 6., 6., 6., 6., 6., 6., 6., 6., 6., 6., 6., 6., 6., 6., 6.,\n",
       "          6., 6., 6., 6., 6., 6., 6., 6., 6., 6., 6., 6., 6., 6., 6.]],\n",
       "\n",
       "        [[-inf, -inf, -inf, -inf, -inf, -inf, -inf, -inf, -inf, -inf, -inf, -inf, -inf, -inf, -inf, -inf, -inf,\n",
       "          -inf, -inf, -inf, -inf, -inf, -inf, -inf, -inf, -inf, -inf, -inf, -inf, -inf, -inf, -inf, -inf, -inf,\n",
       "          -inf, -inf, -inf, -inf, -inf, -inf, -inf, -inf, -inf, -inf, -inf, -inf, -inf, -inf, -inf, -inf, -inf,\n",
       "          -inf, -inf, -inf, -inf, -inf, -inf, -inf, -inf, -inf, -inf, -inf, -inf, -inf, -inf, -inf, -inf, -inf,\n",
       "          -inf, -inf, -inf, -inf, -inf, -inf, -inf, -inf, -inf, -inf, -inf, -inf, -inf, -inf, -inf, -inf, -inf,\n",
       "          -inf, -inf, -inf, -inf, -inf, -inf, -inf, -inf, -inf, -inf, -inf, -inf, -inf, -inf, -inf]]])"
      ]
     },
     "execution_count": 73,
     "metadata": {},
     "output_type": "execute_result"
    }
   ],
   "source": [
    "torch.FloatTensor([5, -float('inf'), 8, 6, -float(\"inf\")]).view(-1, 1, 1).expand(5, 1, 100)"
   ]
  },
  {
   "cell_type": "code",
   "execution_count": 84,
   "id": "17152314",
   "metadata": {
    "ExecuteTime": {
     "end_time": "2021-12-04T19:33:00.365069Z",
     "start_time": "2021-12-04T19:33:00.361779Z"
    }
   },
   "outputs": [],
   "source": [
    "probs = []\n",
    "probs += [0.3]\n",
    "probs += [0.7]"
   ]
  },
  {
   "cell_type": "code",
   "execution_count": 85,
   "id": "724a0bc8",
   "metadata": {
    "ExecuteTime": {
     "end_time": "2021-12-04T19:33:03.522675Z",
     "start_time": "2021-12-04T19:33:03.519019Z"
    }
   },
   "outputs": [
    {
     "data": {
      "text/plain": [
       "[0.3, 0.7]"
      ]
     },
     "execution_count": 85,
     "metadata": {},
     "output_type": "execute_result"
    }
   ],
   "source": [
    "probs"
   ]
  },
  {
   "cell_type": "code",
   "execution_count": 100,
   "id": "8aa40e71",
   "metadata": {
    "ExecuteTime": {
     "end_time": "2021-12-05T07:04:43.580220Z",
     "start_time": "2021-12-05T07:04:43.574997Z"
    }
   },
   "outputs": [
    {
     "data": {
      "text/plain": [
       "tensor([[ 2,  4,  6],\n",
       "        [ 8, 10, 12]])"
      ]
     },
     "execution_count": 100,
     "metadata": {},
     "output_type": "execute_result"
    }
   ],
   "source": [
    "torch.tensor(np.array([[1, 2, 3], [4, 5, 6]]))*2"
   ]
  },
  {
   "cell_type": "code",
   "execution_count": 105,
   "id": "e3f40e3d",
   "metadata": {
    "ExecuteTime": {
     "end_time": "2021-12-05T07:05:39.234049Z",
     "start_time": "2021-12-05T07:05:39.229680Z"
    }
   },
   "outputs": [
    {
     "data": {
      "text/plain": [
       "[[1, 2, 3], [4, 5, 6]]"
      ]
     },
     "execution_count": 105,
     "metadata": {},
     "output_type": "execute_result"
    }
   ],
   "source": [
    "[[1, 2, 3], [4, 5, 6]]"
   ]
  },
  {
   "cell_type": "code",
   "execution_count": 107,
   "id": "2b3a3513",
   "metadata": {
    "ExecuteTime": {
     "end_time": "2021-12-05T07:05:43.633783Z",
     "start_time": "2021-12-05T07:05:43.629355Z"
    }
   },
   "outputs": [
    {
     "data": {
      "text/plain": [
       "[[1, 2, 3], [4, 5, 6], [1, 2, 3], [4, 5, 6], [1, 2, 3], [4, 5, 6]]"
      ]
     },
     "execution_count": 107,
     "metadata": {},
     "output_type": "execute_result"
    }
   ],
   "source": [
    "[[1, 2, 3], [4, 5, 6]] * 3"
   ]
  },
  {
   "cell_type": "code",
   "execution_count": 123,
   "id": "ca23e1df",
   "metadata": {
    "ExecuteTime": {
     "end_time": "2021-12-05T07:24:31.706890Z",
     "start_time": "2021-12-05T07:24:31.702357Z"
    }
   },
   "outputs": [
    {
     "data": {
      "text/plain": [
       "torch.Size([2])"
      ]
     },
     "execution_count": 123,
     "metadata": {},
     "output_type": "execute_result"
    }
   ],
   "source": [
    "hi = []+[torch.rand(2, )]\n",
    "\n",
    "torch.cat(hi,  dim=0).shape"
   ]
  },
  {
   "cell_type": "code",
   "execution_count": 125,
   "id": "fdf4dc0e",
   "metadata": {
    "ExecuteTime": {
     "end_time": "2021-12-05T07:24:39.493725Z",
     "start_time": "2021-12-05T07:24:39.488657Z"
    }
   },
   "outputs": [
    {
     "data": {
      "text/plain": [
       "[tensor([0.8672, 0.9692])]"
      ]
     },
     "execution_count": 125,
     "metadata": {},
     "output_type": "execute_result"
    }
   ],
   "source": [
    "[torch.rand(2, )]"
   ]
  },
  {
   "cell_type": "code",
   "execution_count": 116,
   "id": "1f28bd2b",
   "metadata": {
    "ExecuteTime": {
     "end_time": "2021-12-05T07:07:47.837253Z",
     "start_time": "2021-12-05T07:07:47.832966Z"
    }
   },
   "outputs": [
    {
     "data": {
      "text/plain": [
       "torch.Size([2, 3, 3])"
      ]
     },
     "execution_count": 116,
     "metadata": {},
     "output_type": "execute_result"
    }
   ],
   "source": [
    "torch.cat([torch.rand(2, 1, 3)]*3, dim=1).shape"
   ]
  },
  {
   "cell_type": "code",
   "execution_count": 129,
   "id": "b89bbc55",
   "metadata": {
    "ExecuteTime": {
     "end_time": "2021-12-05T07:26:48.184360Z",
     "start_time": "2021-12-05T07:26:48.179532Z"
    }
   },
   "outputs": [
    {
     "data": {
      "text/plain": [
       "torch.Size([2, 5, 3])"
      ]
     },
     "execution_count": 129,
     "metadata": {},
     "output_type": "execute_result"
    }
   ],
   "source": [
    "fab_hidden = []+[torch.rand(2, 5, 3)]\n",
    "torch.cat(fab_hidden, dim=1).shape"
   ]
  },
  {
   "cell_type": "code",
   "execution_count": 131,
   "id": "9ae4a8b2",
   "metadata": {
    "ExecuteTime": {
     "end_time": "2021-12-05T07:30:53.137405Z",
     "start_time": "2021-12-05T07:30:53.131036Z"
    }
   },
   "outputs": [],
   "source": [
    "abc=[]\n",
    "h_src = torch.rand(2, 10, 3)\n",
    "abc += [h_src[1, :, :]] * 3"
   ]
  },
  {
   "cell_type": "code",
   "execution_count": 137,
   "id": "f25cef50",
   "metadata": {
    "ExecuteTime": {
     "end_time": "2021-12-05T07:31:55.969638Z",
     "start_time": "2021-12-05T07:31:55.964802Z"
    }
   },
   "outputs": [
    {
     "data": {
      "text/plain": [
       "torch.Size([3, 10, 3])"
      ]
     },
     "execution_count": 137,
     "metadata": {},
     "output_type": "execute_result"
    }
   ],
   "source": [
    "torch.stack(abc).shape"
   ]
  },
  {
   "cell_type": "code",
   "execution_count": 136,
   "id": "7576be39",
   "metadata": {
    "ExecuteTime": {
     "end_time": "2021-12-05T07:31:49.019798Z",
     "start_time": "2021-12-05T07:31:49.012841Z"
    }
   },
   "outputs": [
    {
     "data": {
      "text/plain": [
       "[tensor([[0.4736, 0.2630, 0.7601],\n",
       "         [0.6965, 0.7868, 0.4692],\n",
       "         [0.6470, 0.3949, 0.8984],\n",
       "         [0.4147, 0.1759, 0.7857],\n",
       "         [0.0977, 0.6804, 0.9706],\n",
       "         [0.1931, 0.6092, 0.2824],\n",
       "         [0.6803, 0.4303, 0.0380],\n",
       "         [0.1541, 0.2444, 0.5001],\n",
       "         [0.8880, 0.9470, 0.7729],\n",
       "         [0.2098, 0.0514, 0.0766]]),\n",
       " tensor([[0.4736, 0.2630, 0.7601],\n",
       "         [0.6965, 0.7868, 0.4692],\n",
       "         [0.6470, 0.3949, 0.8984],\n",
       "         [0.4147, 0.1759, 0.7857],\n",
       "         [0.0977, 0.6804, 0.9706],\n",
       "         [0.1931, 0.6092, 0.2824],\n",
       "         [0.6803, 0.4303, 0.0380],\n",
       "         [0.1541, 0.2444, 0.5001],\n",
       "         [0.8880, 0.9470, 0.7729],\n",
       "         [0.2098, 0.0514, 0.0766]]),\n",
       " tensor([[0.4736, 0.2630, 0.7601],\n",
       "         [0.6965, 0.7868, 0.4692],\n",
       "         [0.6470, 0.3949, 0.8984],\n",
       "         [0.4147, 0.1759, 0.7857],\n",
       "         [0.0977, 0.6804, 0.9706],\n",
       "         [0.1931, 0.6092, 0.2824],\n",
       "         [0.6803, 0.4303, 0.0380],\n",
       "         [0.1541, 0.2444, 0.5001],\n",
       "         [0.8880, 0.9470, 0.7729],\n",
       "         [0.2098, 0.0514, 0.0766]])]"
      ]
     },
     "execution_count": 136,
     "metadata": {},
     "output_type": "execute_result"
    }
   ],
   "source": [
    "abc"
   ]
  },
  {
   "cell_type": "code",
   "execution_count": null,
   "id": "4c770e7b",
   "metadata": {},
   "outputs": [],
   "source": []
  },
  {
   "cell_type": "code",
   "execution_count": null,
   "id": "109f9b0c",
   "metadata": {},
   "outputs": [],
   "source": []
  },
  {
   "cell_type": "code",
   "execution_count": 159,
   "id": "a492ab6f",
   "metadata": {
    "ExecuteTime": {
     "end_time": "2021-12-06T17:11:48.889064Z",
     "start_time": "2021-12-06T17:11:48.885977Z"
    }
   },
   "outputs": [],
   "source": [
    "hidden_size = 20\n",
    "max_length = 10"
   ]
  },
  {
   "cell_type": "code",
   "execution_count": 160,
   "id": "ca850a98",
   "metadata": {
    "ExecuteTime": {
     "end_time": "2021-12-06T17:11:49.014470Z",
     "start_time": "2021-12-06T17:11:49.011266Z"
    }
   },
   "outputs": [],
   "source": [
    "enc = torch.FloatTensor(max_length, hidden_size).zero_()"
   ]
  },
  {
   "cell_type": "code",
   "execution_count": 161,
   "id": "062bf94c",
   "metadata": {
    "ExecuteTime": {
     "end_time": "2021-12-06T17:11:49.192486Z",
     "start_time": "2021-12-06T17:11:49.188663Z"
    }
   },
   "outputs": [],
   "source": [
    "pos = torch.arange(0, max_length).unsqueeze(-1).float()\n",
    "dim = torch.arange(0, hidden_size // 2).unsqueeze(0).float()"
   ]
  },
  {
   "cell_type": "code",
   "execution_count": 162,
   "id": "d7120c10",
   "metadata": {
    "ExecuteTime": {
     "end_time": "2021-12-06T17:11:49.366457Z",
     "start_time": "2021-12-06T17:11:49.362015Z"
    }
   },
   "outputs": [
    {
     "data": {
      "text/plain": [
       "tensor([[0.],\n",
       "        [1.],\n",
       "        [2.],\n",
       "        [3.],\n",
       "        [4.],\n",
       "        [5.],\n",
       "        [6.],\n",
       "        [7.],\n",
       "        [8.],\n",
       "        [9.]])"
      ]
     },
     "execution_count": 162,
     "metadata": {},
     "output_type": "execute_result"
    }
   ],
   "source": [
    "pos"
   ]
  },
  {
   "cell_type": "code",
   "execution_count": 163,
   "id": "81c2d36c",
   "metadata": {
    "ExecuteTime": {
     "end_time": "2021-12-06T17:11:49.534615Z",
     "start_time": "2021-12-06T17:11:49.529328Z"
    }
   },
   "outputs": [
    {
     "data": {
      "text/plain": [
       "tensor([[0., 1., 2., 3., 4., 5., 6., 7., 8., 9.]])"
      ]
     },
     "execution_count": 163,
     "metadata": {},
     "output_type": "execute_result"
    }
   ],
   "source": [
    "dim"
   ]
  },
  {
   "cell_type": "code",
   "execution_count": 169,
   "id": "7cd5c360",
   "metadata": {
    "ExecuteTime": {
     "end_time": "2021-12-06T17:13:48.663744Z",
     "start_time": "2021-12-06T17:13:48.657745Z"
    }
   },
   "outputs": [
    {
     "data": {
      "text/plain": [
       "tensor([[ 0.0000,  0.0000,  0.0000,  0.0000,  0.0000,  0.0000,  0.0000,  0.0000,\n",
       "          0.0000,  0.0000],\n",
       "        [ 0.8415,  0.5899,  0.3877,  0.2486,  0.1578,  0.0998,  0.0631,  0.0398,\n",
       "          0.0251,  0.0158],\n",
       "        [ 0.9093,  0.9527,  0.7147,  0.4815,  0.3117,  0.1987,  0.1259,  0.0795,\n",
       "          0.0502,  0.0317],\n",
       "        [ 0.1411,  0.9486,  0.9300,  0.6842,  0.4578,  0.2955,  0.1882,  0.1191,\n",
       "          0.0753,  0.0475],\n",
       "        [-0.7568,  0.5792,  0.9998,  0.8440,  0.5923,  0.3894,  0.2497,  0.1586,\n",
       "          0.1003,  0.0634],\n",
       "        [-0.9589, -0.0132,  0.9132,  0.9508,  0.7121,  0.4794,  0.3103,  0.1977,\n",
       "          0.1253,  0.0792],\n",
       "        [-0.2794, -0.6005,  0.6838,  0.9980,  0.8140,  0.5646,  0.3696,  0.2366,\n",
       "          0.1501,  0.0950],\n",
       "        [ 0.6570, -0.9566,  0.3474,  0.9825,  0.8954,  0.6442,  0.4274,  0.2751,\n",
       "          0.1749,  0.1107],\n",
       "        [ 0.9894, -0.9443, -0.0433,  0.9053,  0.9545,  0.7174,  0.4836,  0.3131,\n",
       "          0.1996,  0.1265],\n",
       "        [ 0.4121, -0.5684, -0.4272,  0.7713,  0.9896,  0.7833,  0.5378,  0.3507,\n",
       "          0.2241,  0.1422]])"
      ]
     },
     "execution_count": 169,
     "metadata": {},
     "output_type": "execute_result"
    }
   ],
   "source": [
    "torch.sin(pos / 1e+4**dim.div(float(hidden_size)))"
   ]
  },
  {
   "cell_type": "code",
   "execution_count": 166,
   "id": "cbc1651b",
   "metadata": {
    "ExecuteTime": {
     "end_time": "2021-12-06T17:13:42.125075Z",
     "start_time": "2021-12-06T17:13:42.121177Z"
    },
    "scrolled": true
   },
   "outputs": [],
   "source": [
    "enc[:, 0::2] = torch.sin(pos / 1e+4**dim.div(float(hidden_size)))\n",
    "enc[:, 1::2] = torch.cos(pos / 1e+4**dim.div(float(hidden_size)))"
   ]
  },
  {
   "cell_type": "code",
   "execution_count": 150,
   "id": "7e6387af",
   "metadata": {
    "ExecuteTime": {
     "end_time": "2021-12-06T17:11:06.838512Z",
     "start_time": "2021-12-06T17:11:06.832096Z"
    }
   },
   "outputs": [
    {
     "data": {
      "text/plain": [
       "tensor([[ 0.0000,  1.0000,  0.0000,  1.0000,  0.0000,  1.0000,  0.0000,  1.0000,\n",
       "          0.0000,  1.0000,  0.0000,  1.0000,  0.0000,  1.0000,  0.0000,  1.0000,\n",
       "          0.0000,  1.0000,  0.0000,  1.0000],\n",
       "        [ 0.8415,  0.5403,  0.5899,  0.8075,  0.3877,  0.9218,  0.2486,  0.9686,\n",
       "          0.1578,  0.9875,  0.0998,  0.9950,  0.0631,  0.9980,  0.0398,  0.9992,\n",
       "          0.0251,  0.9997,  0.0158,  0.9999],\n",
       "        [ 0.9093, -0.4161,  0.9527,  0.3040,  0.7147,  0.6994,  0.4815,  0.8764,\n",
       "          0.3117,  0.9502,  0.1987,  0.9801,  0.1259,  0.9920,  0.0795,  0.9968,\n",
       "          0.0502,  0.9987,  0.0317,  0.9995],\n",
       "        [ 0.1411, -0.9900,  0.9486, -0.3165,  0.9300,  0.3676,  0.6842,  0.7293,\n",
       "          0.4578,  0.8891,  0.2955,  0.9553,  0.1882,  0.9821,  0.1191,  0.9929,\n",
       "          0.0753,  0.9972,  0.0475,  0.9989],\n",
       "        [-0.7568, -0.6536,  0.5792, -0.8152,  0.9998, -0.0216,  0.8440,  0.5363,\n",
       "          0.5923,  0.8057,  0.3894,  0.9211,  0.2497,  0.9683,  0.1586,  0.9873,\n",
       "          0.1003,  0.9950,  0.0634,  0.9980],\n",
       "        [-0.9589,  0.2837, -0.0132, -0.9999,  0.9132, -0.4075,  0.9508,  0.3097,\n",
       "          0.7121,  0.7021,  0.4794,  0.8776,  0.3103,  0.9506,  0.1977,  0.9803,\n",
       "          0.1253,  0.9921,  0.0792,  0.9969],\n",
       "        [-0.2794,  0.9602, -0.6005, -0.7996,  0.6838, -0.7297,  0.9980,  0.0636,\n",
       "          0.8140,  0.5809,  0.5646,  0.8253,  0.3696,  0.9292,  0.2366,  0.9716,\n",
       "          0.1501,  0.9887,  0.0950,  0.9955],\n",
       "        [ 0.6570,  0.7539, -0.9566, -0.2914,  0.3474, -0.9377,  0.9825, -0.1864,\n",
       "          0.8954,  0.4452,  0.6442,  0.7648,  0.4274,  0.9040,  0.2751,  0.9614,\n",
       "          0.1749,  0.9846,  0.1107,  0.9939],\n",
       "        [ 0.9894, -0.1455, -0.9443,  0.3290, -0.0433, -0.9991,  0.9053, -0.4248,\n",
       "          0.9545,  0.2983,  0.7174,  0.6967,  0.4836,  0.8753,  0.3131,  0.9497,\n",
       "          0.1996,  0.9799,  0.1265,  0.9920],\n",
       "        [ 0.4121, -0.9111, -0.5684,  0.8227, -0.4272, -0.9042,  0.7713, -0.6365,\n",
       "          0.9896,  0.1439,  0.7833,  0.6216,  0.5378,  0.8431,  0.3507,  0.9365,\n",
       "          0.2241,  0.9746,  0.1422,  0.9898]])"
      ]
     },
     "execution_count": 150,
     "metadata": {},
     "output_type": "execute_result"
    }
   ],
   "source": [
    "enc"
   ]
  },
  {
   "cell_type": "code",
   "execution_count": 179,
   "id": "8d265711",
   "metadata": {
    "ExecuteTime": {
     "end_time": "2021-12-06T17:42:41.901179Z",
     "start_time": "2021-12-06T17:42:41.895938Z"
    }
   },
   "outputs": [
    {
     "data": {
      "text/plain": [
       "tensor([[ 0.0000,  1.0000],\n",
       "        [ 0.8415,  0.5403],\n",
       "        [ 0.9093, -0.4161]])"
      ]
     },
     "execution_count": 179,
     "metadata": {},
     "output_type": "execute_result"
    }
   ],
   "source": [
    "enc[:3, :2] "
   ]
  },
  {
   "cell_type": "code",
   "execution_count": 189,
   "id": "c53ad672",
   "metadata": {
    "ExecuteTime": {
     "end_time": "2021-12-06T17:48:54.646362Z",
     "start_time": "2021-12-06T17:48:54.640918Z"
    }
   },
   "outputs": [
    {
     "data": {
      "text/plain": [
       "tensor([[0., 0., 0., 1.],\n",
       "        [0., 1., 1., 1.]])"
      ]
     },
     "execution_count": 189,
     "metadata": {},
     "output_type": "execute_result"
    }
   ],
   "source": [
    "matrix = torch.Tensor([[0, 0, 0, 1], [0, 1, 1, 1]])\n",
    "matrix"
   ]
  },
  {
   "cell_type": "code",
   "execution_count": 190,
   "id": "a23f2a4a",
   "metadata": {
    "ExecuteTime": {
     "end_time": "2021-12-06T17:49:07.899716Z",
     "start_time": "2021-12-06T17:49:07.895394Z"
    }
   },
   "outputs": [
    {
     "data": {
      "text/plain": [
       "torch.Size([2, 4])"
      ]
     },
     "execution_count": 190,
     "metadata": {},
     "output_type": "execute_result"
    }
   ],
   "source": [
    "matrix.shape"
   ]
  },
  {
   "cell_type": "code",
   "execution_count": 191,
   "id": "2b589b2b",
   "metadata": {
    "ExecuteTime": {
     "end_time": "2021-12-06T17:49:14.066603Z",
     "start_time": "2021-12-06T17:49:14.060477Z"
    }
   },
   "outputs": [
    {
     "data": {
      "text/plain": [
       "tensor([[[0., 0., 0., 1.],\n",
       "         [0., 0., 0., 1.],\n",
       "         [0., 0., 0., 1.],\n",
       "         [0., 0., 0., 1.]],\n",
       "\n",
       "        [[0., 1., 1., 1.],\n",
       "         [0., 1., 1., 1.],\n",
       "         [0., 1., 1., 1.],\n",
       "         [0., 1., 1., 1.]]])"
      ]
     },
     "execution_count": 191,
     "metadata": {},
     "output_type": "execute_result"
    }
   ],
   "source": [
    "matrix.unsqueeze(1).expand(2, 4, 4)"
   ]
  },
  {
   "cell_type": "code",
   "execution_count": 192,
   "id": "9ca89dff",
   "metadata": {
    "ExecuteTime": {
     "end_time": "2021-12-06T17:58:39.023625Z",
     "start_time": "2021-12-06T17:58:39.018752Z"
    }
   },
   "outputs": [
    {
     "data": {
      "text/plain": [
       "torch.Size([2, 4, 4])"
      ]
     },
     "execution_count": 192,
     "metadata": {},
     "output_type": "execute_result"
    }
   ],
   "source": [
    "matrix.unsqueeze(1).expand(2, 4, 4).shape"
   ]
  },
  {
   "cell_type": "code",
   "execution_count": 193,
   "id": "47245751",
   "metadata": {
    "ExecuteTime": {
     "end_time": "2021-12-06T17:58:46.408084Z",
     "start_time": "2021-12-06T17:58:46.402124Z"
    }
   },
   "outputs": [
    {
     "data": {
      "text/plain": [
       "tensor([[[0., 0., 0., 1.],\n",
       "         [0., 0., 0., 1.],\n",
       "         [0., 0., 0., 1.]],\n",
       "\n",
       "        [[0., 1., 1., 1.],\n",
       "         [0., 1., 1., 1.],\n",
       "         [0., 1., 1., 1.]]])"
      ]
     },
     "execution_count": 193,
     "metadata": {},
     "output_type": "execute_result"
    }
   ],
   "source": [
    "matrix.unsqueeze(1).expand(2, 3, 4)"
   ]
  },
  {
   "cell_type": "code",
   "execution_count": 195,
   "id": "881f8b86",
   "metadata": {
    "ExecuteTime": {
     "end_time": "2021-12-06T18:11:28.634694Z",
     "start_time": "2021-12-06T18:11:28.632499Z"
    }
   },
   "outputs": [],
   "source": [
    "# upper triangle"
   ]
  },
  {
   "cell_type": "code",
   "execution_count": 194,
   "id": "838342dd",
   "metadata": {
    "ExecuteTime": {
     "end_time": "2021-12-06T18:11:18.498514Z",
     "start_time": "2021-12-06T18:11:18.475675Z"
    }
   },
   "outputs": [
    {
     "data": {
      "text/plain": [
       "tensor([[False,  True,  True],\n",
       "        [False, False,  True],\n",
       "        [False, False, False]])"
      ]
     },
     "execution_count": 194,
     "metadata": {},
     "output_type": "execute_result"
    }
   ],
   "source": [
    "torch.triu(matrix.new_ones(\n",
    "                (3, 3)), diagonal=1).bool()"
   ]
  },
  {
   "cell_type": "code",
   "execution_count": null,
   "id": "63af8f43",
   "metadata": {},
   "outputs": [],
   "source": []
  },
  {
   "cell_type": "code",
   "execution_count": null,
   "id": "c60d4855",
   "metadata": {},
   "outputs": [],
   "source": []
  },
  {
   "cell_type": "code",
   "execution_count": 196,
   "id": "fc44bedf",
   "metadata": {
    "ExecuteTime": {
     "end_time": "2021-12-07T12:03:06.892884Z",
     "start_time": "2021-12-07T12:03:06.878543Z"
    }
   },
   "outputs": [],
   "source": [
    "dict_sample = {'a': [1, 2, 3]}"
   ]
  },
  {
   "cell_type": "code",
   "execution_count": 197,
   "id": "7a53ec46",
   "metadata": {
    "ExecuteTime": {
     "end_time": "2021-12-07T12:03:17.028879Z",
     "start_time": "2021-12-07T12:03:17.025988Z"
    }
   },
   "outputs": [],
   "source": [
    "dict_sample['a']+=[2]"
   ]
  },
  {
   "cell_type": "code",
   "execution_count": 198,
   "id": "3a262336",
   "metadata": {
    "ExecuteTime": {
     "end_time": "2021-12-07T12:03:19.904773Z",
     "start_time": "2021-12-07T12:03:19.888986Z"
    }
   },
   "outputs": [
    {
     "data": {
      "text/plain": [
       "{'a': [1, 2, 3, 2]}"
      ]
     },
     "execution_count": 198,
     "metadata": {},
     "output_type": "execute_result"
    }
   ],
   "source": [
    "dict_sample"
   ]
  },
  {
   "cell_type": "code",
   "execution_count": 200,
   "id": "07631e5d",
   "metadata": {
    "ExecuteTime": {
     "end_time": "2021-12-07T12:09:05.808060Z",
     "start_time": "2021-12-07T12:09:05.803199Z"
    }
   },
   "outputs": [
    {
     "data": {
      "text/plain": [
       "[[1, 2, 3], [1, 2, 3]]"
      ]
     },
     "execution_count": 200,
     "metadata": {},
     "output_type": "execute_result"
    }
   ],
   "source": [
    "[[1, 2, 3]]*2"
   ]
  },
  {
   "cell_type": "code",
   "execution_count": 216,
   "id": "f42c499d",
   "metadata": {
    "ExecuteTime": {
     "end_time": "2021-12-07T13:13:04.205037Z",
     "start_time": "2021-12-07T13:13:04.195462Z"
    }
   },
   "outputs": [
    {
     "data": {
      "text/plain": [
       "tensor([[0.0000e+00, 4.6566e-10, 0.0000e+00]])"
      ]
     },
     "execution_count": 216,
     "metadata": {},
     "output_type": "execute_result"
    }
   ],
   "source": [
    "torch.Tensor(1, 3)"
   ]
  },
  {
   "cell_type": "code",
   "execution_count": 227,
   "id": "d660c7e7",
   "metadata": {
    "ExecuteTime": {
     "end_time": "2021-12-07T13:15:16.805599Z",
     "start_time": "2021-12-07T13:15:16.798490Z"
    }
   },
   "outputs": [
    {
     "data": {
      "text/plain": [
       "tensor([[0.0000e+00],\n",
       "        [4.6566e-10],\n",
       "        [2.3370e-19]])"
      ]
     },
     "execution_count": 227,
     "metadata": {},
     "output_type": "execute_result"
    }
   ],
   "source": [
    "torch.Tensor(3, 1)"
   ]
  },
  {
   "cell_type": "code",
   "execution_count": 228,
   "id": "96f14ac5",
   "metadata": {
    "ExecuteTime": {
     "end_time": "2021-12-07T13:15:24.174117Z",
     "start_time": "2021-12-07T13:15:24.167641Z"
    }
   },
   "outputs": [
    {
     "data": {
      "text/plain": [
       "tensor([[9.1477e-41],\n",
       "        [0.0000e+00],\n",
       "        [1.6816e-44],\n",
       "        [0.0000e+00],\n",
       "        [0.0000e+00],\n",
       "        [3.5993e-04]])"
      ]
     },
     "execution_count": 228,
     "metadata": {},
     "output_type": "execute_result"
    }
   ],
   "source": [
    "fab_input = []\n",
    "fab_input += [torch.Tensor(3, 1)]\n",
    "fab_input += [torch.Tensor(3, 1)]\n",
    "torch.cat(fab_input, dim=0)"
   ]
  },
  {
   "cell_type": "code",
   "execution_count": 218,
   "id": "394ceb60",
   "metadata": {
    "ExecuteTime": {
     "end_time": "2021-12-07T13:13:15.834888Z",
     "start_time": "2021-12-07T13:13:15.829816Z"
    }
   },
   "outputs": [
    {
     "data": {
      "text/plain": [
       "tensor([0., 0., 0., 0., 0., 0.])"
      ]
     },
     "execution_count": 218,
     "metadata": {},
     "output_type": "execute_result"
    }
   ],
   "source": [
    "torch.cat(fab_input, dim=0)"
   ]
  },
  {
   "cell_type": "code",
   "execution_count": null,
   "id": "97f16cf2",
   "metadata": {},
   "outputs": [],
   "source": []
  },
  {
   "cell_type": "code",
   "execution_count": null,
   "id": "5a8f4899",
   "metadata": {},
   "outputs": [],
   "source": []
  },
  {
   "cell_type": "code",
   "execution_count": null,
   "id": "38ea757e",
   "metadata": {},
   "outputs": [],
   "source": []
  },
  {
   "cell_type": "code",
   "execution_count": 229,
   "id": "60c5a33c",
   "metadata": {
    "ExecuteTime": {
     "end_time": "2021-12-10T18:43:27.399132Z",
     "start_time": "2021-12-10T18:43:27.373920Z"
    }
   },
   "outputs": [],
   "source": [
    "hyp = []\n",
    "for i in range(5):\n",
    "    hyp+= [3]"
   ]
  },
  {
   "cell_type": "code",
   "execution_count": 230,
   "id": "9b4e75f5",
   "metadata": {
    "ExecuteTime": {
     "end_time": "2021-12-10T18:43:32.081438Z",
     "start_time": "2021-12-10T18:43:32.047758Z"
    }
   },
   "outputs": [
    {
     "data": {
      "text/plain": [
       "[3, 3, 3, 3, 3]"
      ]
     },
     "execution_count": 230,
     "metadata": {},
     "output_type": "execute_result"
    }
   ],
   "source": [
    "hyp"
   ]
  },
  {
   "cell_type": "code",
   "execution_count": null,
   "id": "4e61f813",
   "metadata": {},
   "outputs": [],
   "source": []
  },
  {
   "cell_type": "code",
   "execution_count": null,
   "id": "df8a9e5c",
   "metadata": {},
   "outputs": [],
   "source": []
  },
  {
   "cell_type": "code",
   "execution_count": null,
   "id": "08d3b9e4",
   "metadata": {},
   "outputs": [],
   "source": []
  },
  {
   "cell_type": "code",
   "execution_count": 236,
   "id": "ab28677f",
   "metadata": {
    "ExecuteTime": {
     "end_time": "2021-12-14T12:10:04.413198Z",
     "start_time": "2021-12-14T12:10:04.407875Z"
    },
    "scrolled": true
   },
   "outputs": [
    {
     "data": {
      "text/plain": [
       "tensor([1., 0., 1., 1., 1., 1., 1., 1., 1., 1.])"
      ]
     },
     "execution_count": 236,
     "metadata": {},
     "output_type": "execute_result"
    }
   ],
   "source": [
    "a = torch.ones(10)\n",
    "a[1]=0\n",
    "a"
   ]
  },
  {
   "cell_type": "code",
   "execution_count": 241,
   "id": "1d1fe622",
   "metadata": {
    "ExecuteTime": {
     "end_time": "2021-12-14T14:21:09.823253Z",
     "start_time": "2021-12-14T14:21:09.818306Z"
    }
   },
   "outputs": [
    {
     "data": {
      "text/plain": [
       "tensor([-0.5425, -0.6944, -0.9035, -0.3718, -0.0128, -2.7105])"
      ]
     },
     "execution_count": 241,
     "metadata": {},
     "output_type": "execute_result"
    }
   ],
   "source": [
    "x = torch.randn(6)\n",
    "x"
   ]
  },
  {
   "cell_type": "code",
   "execution_count": 242,
   "id": "8168c0b6",
   "metadata": {
    "ExecuteTime": {
     "end_time": "2021-12-14T14:21:19.038159Z",
     "start_time": "2021-12-14T14:21:19.015999Z"
    }
   },
   "outputs": [],
   "source": [
    "sorted, indices = torch.sort(x)"
   ]
  },
  {
   "cell_type": "code",
   "execution_count": 243,
   "id": "2cb06001",
   "metadata": {
    "ExecuteTime": {
     "end_time": "2021-12-14T14:21:28.026052Z",
     "start_time": "2021-12-14T14:21:28.018107Z"
    }
   },
   "outputs": [
    {
     "name": "stdout",
     "output_type": "stream",
     "text": [
      "tensor([-2.7105, -0.9035, -0.6944, -0.5425, -0.3718, -0.0128]) tensor([5, 2, 1, 0, 3, 4])\n"
     ]
    }
   ],
   "source": [
    "print(sorted, indices)"
   ]
  },
  {
   "cell_type": "code",
   "execution_count": null,
   "id": "35e66362",
   "metadata": {},
   "outputs": [],
   "source": []
  }
 ],
 "metadata": {
  "hide_input": false,
  "kernelspec": {
   "display_name": "Python 3 (ipykernel)",
   "language": "python",
   "name": "python3"
  },
  "language_info": {
   "codemirror_mode": {
    "name": "ipython",
    "version": 3
   },
   "file_extension": ".py",
   "mimetype": "text/x-python",
   "name": "python",
   "nbconvert_exporter": "python",
   "pygments_lexer": "ipython3",
   "version": "3.8.5"
  },
  "toc": {
   "base_numbering": 1,
   "nav_menu": {},
   "number_sections": true,
   "sideBar": true,
   "skip_h1_title": false,
   "title_cell": "Table of Contents",
   "title_sidebar": "Contents",
   "toc_cell": false,
   "toc_position": {},
   "toc_section_display": true,
   "toc_window_display": false
  },
  "varInspector": {
   "cols": {
    "lenName": 16,
    "lenType": 16,
    "lenVar": 40
   },
   "kernels_config": {
    "python": {
     "delete_cmd_postfix": "",
     "delete_cmd_prefix": "del ",
     "library": "var_list.py",
     "varRefreshCmd": "print(var_dic_list())"
    },
    "r": {
     "delete_cmd_postfix": ") ",
     "delete_cmd_prefix": "rm(",
     "library": "var_list.r",
     "varRefreshCmd": "cat(var_dic_list()) "
    }
   },
   "types_to_exclude": [
    "module",
    "function",
    "builtin_function_or_method",
    "instance",
    "_Feature"
   ],
   "window_display": false
  }
 },
 "nbformat": 4,
 "nbformat_minor": 5
}
