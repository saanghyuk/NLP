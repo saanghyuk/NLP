{
 "cells": [
  {
   "cell_type": "code",
   "execution_count": 134,
   "metadata": {
    "ExecuteTime": {
     "end_time": "2021-11-23T17:06:12.937366Z",
     "start_time": "2021-11-23T17:06:12.907996Z"
    }
   },
   "outputs": [],
   "source": [
    "from data_loader_3 import DataLoader"
   ]
  },
  {
   "cell_type": "markdown",
   "metadata": {},
   "source": [
    "## Load TSV data"
   ]
  },
  {
   "cell_type": "code",
   "execution_count": 147,
   "metadata": {
    "ExecuteTime": {
     "end_time": "2021-11-23T17:07:07.461804Z",
     "start_time": "2021-11-23T17:06:58.688026Z"
    }
   },
   "outputs": [],
   "source": [
    "loaders = DataLoader(\n",
    "    train_fn='./review.sorted.uniq.refined.tok.shuf.train.tsv',\n",
    "    batch_size=100000,\n",
    "    valid_ratio=.2,\n",
    "    device=-1,\n",
    "    max_vocab=999999,\n",
    "    min_freq=5,\n",
    ")"
   ]
  },
  {
   "cell_type": "markdown",
   "metadata": {},
   "source": [
    "### Check loader"
   ]
  },
  {
   "cell_type": "code",
   "execution_count": 148,
   "metadata": {
    "ExecuteTime": {
     "end_time": "2021-11-23T17:07:08.176597Z",
     "start_time": "2021-11-23T17:07:08.172578Z"
    },
    "scrolled": true
   },
   "outputs": [
    {
     "name": "stdout",
     "output_type": "stream",
     "text": [
      "|train|=201986\n",
      "|valid|=50497\n"
     ]
    }
   ],
   "source": [
    "print(\"|train|=%d\" % len(loaders.train_loader.dataset))\n",
    "print(\"|valid|=%d\" % len(loaders.valid_loader.dataset))"
   ]
  },
  {
   "cell_type": "code",
   "execution_count": 149,
   "metadata": {
    "ExecuteTime": {
     "end_time": "2021-11-23T17:07:08.626482Z",
     "start_time": "2021-11-23T17:07:08.622247Z"
    }
   },
   "outputs": [
    {
     "name": "stdout",
     "output_type": "stream",
     "text": [
      "<torchtext.legacy.data.example.Example object at 0x7fc149d5abb0>\n"
     ]
    }
   ],
   "source": [
    "for i in loaders.train_loader.dataset:\n",
    "    print(i)\n",
    "    break"
   ]
  },
  {
   "cell_type": "code",
   "execution_count": 150,
   "metadata": {
    "ExecuteTime": {
     "end_time": "2021-11-23T17:07:08.897307Z",
     "start_time": "2021-11-23T17:07:08.892253Z"
    }
   },
   "outputs": [
    {
     "name": "stdout",
     "output_type": "stream",
     "text": [
      "|vocab|=17142\n",
      "|label|=2\n"
     ]
    }
   ],
   "source": [
    "print(\"|vocab|=%d\" % len(loaders.text.vocab))\n",
    "print(\"|label|=%d\" % len(loaders.label.vocab))"
   ]
  },
  {
   "cell_type": "markdown",
   "metadata": {},
   "source": [
    "### Get mini-batch tensors"
   ]
  },
  {
   "cell_type": "code",
   "execution_count": 159,
   "metadata": {
    "ExecuteTime": {
     "end_time": "2021-11-23T17:08:11.230171Z",
     "start_time": "2021-11-23T17:08:09.721750Z"
    }
   },
   "outputs": [
    {
     "name": "stdout",
     "output_type": "stream",
     "text": [
      "torch.Size([100000, 17])\n",
      "torch.Size([100000])\n"
     ]
    }
   ],
   "source": [
    "# loaders iterator객체로 바꾸고 딱 하나만 받아와 보려고 한 것. \n",
    "data = next(iter(loaders.train_loader))\n",
    "\n",
    "print(data.text.shape)\n",
    "print(data.label.shape)"
   ]
  },
  {
   "cell_type": "code",
   "execution_count": 59,
   "metadata": {
    "ExecuteTime": {
     "end_time": "2021-11-23T16:45:25.306566Z",
     "start_time": "2021-11-23T16:45:25.300300Z"
    }
   },
   "outputs": [
    {
     "data": {
      "text/plain": [
       "\n",
       "[torchtext.legacy.data.batch.Batch of size 256]\n",
       "\t[.label]:[torch.LongTensor of size 256]\n",
       "\t[.text]:[torch.LongTensor of size 256x6]"
      ]
     },
     "execution_count": 59,
     "metadata": {},
     "output_type": "execute_result"
    }
   ],
   "source": [
    "data"
   ]
  },
  {
   "cell_type": "markdown",
   "metadata": {},
   "source": [
    "### Use vocab"
   ]
  },
  {
   "cell_type": "code",
   "execution_count": 160,
   "metadata": {
    "ExecuteTime": {
     "end_time": "2021-11-23T17:08:28.042891Z",
     "start_time": "2021-11-23T17:08:28.036916Z"
    }
   },
   "outputs": [
    {
     "data": {
      "text/plain": [
       "['UNK',\n",
       " '__class__',\n",
       " '__delattr__',\n",
       " '__dict__',\n",
       " '__dir__',\n",
       " '__doc__',\n",
       " '__eq__',\n",
       " '__format__',\n",
       " '__ge__',\n",
       " '__getattribute__',\n",
       " '__getitem__',\n",
       " '__getstate__',\n",
       " '__gt__',\n",
       " '__hash__',\n",
       " '__init__',\n",
       " '__init_subclass__',\n",
       " '__le__',\n",
       " '__len__',\n",
       " '__lt__',\n",
       " '__module__',\n",
       " '__ne__',\n",
       " '__new__',\n",
       " '__reduce__',\n",
       " '__reduce_ex__',\n",
       " '__repr__',\n",
       " '__setattr__',\n",
       " '__setstate__',\n",
       " '__sizeof__',\n",
       " '__str__',\n",
       " '__subclasshook__',\n",
       " '__weakref__',\n",
       " '_default_unk_index',\n",
       " 'extend',\n",
       " 'freqs',\n",
       " 'itos',\n",
       " 'load_vectors',\n",
       " 'lookup_indices',\n",
       " 'set_vectors',\n",
       " 'stoi',\n",
       " 'unk_index',\n",
       " 'vectors']"
      ]
     },
     "execution_count": 160,
     "metadata": {},
     "output_type": "execute_result"
    }
   ],
   "source": [
    "dir(loaders.text.vocab)"
   ]
  },
  {
   "cell_type": "code",
   "execution_count": 161,
   "metadata": {
    "ExecuteTime": {
     "end_time": "2021-11-23T17:08:30.245474Z",
     "start_time": "2021-11-23T17:08:30.241112Z"
    }
   },
   "outputs": [
    {
     "data": {
      "text/plain": [
       "18"
      ]
     },
     "execution_count": 161,
     "metadata": {},
     "output_type": "execute_result"
    }
   ],
   "source": [
    "# 단어를 integer로 어디에 있는지 index를 뱉어주는 것\n",
    "loaders.text.vocab.stoi['배송']"
   ]
  },
  {
   "cell_type": "code",
   "execution_count": 162,
   "metadata": {
    "ExecuteTime": {
     "end_time": "2021-11-23T17:08:30.941722Z",
     "start_time": "2021-11-23T17:08:30.937473Z"
    }
   },
   "outputs": [
    {
     "data": {
      "text/plain": [
       "'배송'"
      ]
     },
     "execution_count": 162,
     "metadata": {},
     "output_type": "execute_result"
    }
   ],
   "source": [
    "loaders.text.vocab.itos[18]"
   ]
  },
  {
   "cell_type": "markdown",
   "metadata": {},
   "source": [
    "#### Check most frequent words"
   ]
  },
  {
   "cell_type": "code",
   "execution_count": 163,
   "metadata": {
    "ExecuteTime": {
     "end_time": "2021-11-23T17:08:31.867016Z",
     "start_time": "2021-11-23T17:08:31.861529Z"
    }
   },
   "outputs": [
    {
     "name": "stdout",
     "output_type": "stream",
     "text": [
      "    0: <unk>\t0\n",
      "    1: <pad>\t0\n",
      "    2: .\t241442\n",
      "    3: 고\t139213\n",
      "    4: 이\t132829\n",
      "    5: 하\t113992\n",
      "    6: 도\t94430\n",
      "    7: 네요\t92009\n",
      "    8: 좋\t89304\n",
      "    9: 에\t85781\n",
      "   10: 는\t79805\n",
      "   11: 가\t64950\n",
      "   12: 은\t61540\n",
      "   13: 는데\t52538\n",
      "   14: 아요\t49763\n",
      "   15: 게\t49750\n",
      "   16: 잘\t48971\n",
      "   17: 어요\t46629\n",
      "   18: 배송\t43949\n",
      "   19: 있\t41822\n",
      "   20: 습니다\t39623\n",
      "   21: 했\t39286\n",
      "   22: 안\t35661\n",
      "   23: 을\t35035\n",
      "   24: 한\t33243\n",
      "   25: ~\t30858\n",
      "   26: 구매\t29302\n",
      "   27: 같\t28026\n",
      "   28: 거\t27175\n",
      "   29: 너무\t27174\n",
      "   30: 합니다\t27021\n",
      "   31: 지\t26504\n",
      "   32: ..\t25004\n",
      "   33: !\t24340\n",
      "   34: 어\t24190\n",
      "   35: ,\t23673\n",
      "   36: 다\t23662\n",
      "   37: 가격\t22834\n",
      "   38: 되\t22464\n",
      "   39: ?\t22126\n",
      "   40: 것\t21519\n",
      "   41: 들\t21178\n",
      "   42: 제품\t20966\n",
      "   43: 았\t20936\n",
      "   44: 으로\t20634\n",
      "   45: 쓰\t20388\n",
      "   46: 아\t20320\n",
      "   47: 만\t20080\n",
      "   48: 받\t19967\n",
      "   49: 로\t19686\n"
     ]
    }
   ],
   "source": [
    "for i in range(50):\n",
    "    word = loaders.text.vocab.itos[i]\n",
    "    print('%5d: %s\\t%d' % (i, word, loaders.text.vocab.freqs[word]))"
   ]
  },
  {
   "cell_type": "markdown",
   "metadata": {},
   "source": [
    "#### Restore text from tensor"
   ]
  },
  {
   "cell_type": "code",
   "execution_count": 82,
   "metadata": {
    "ExecuteTime": {
     "end_time": "2021-11-23T16:49:48.477857Z",
     "start_time": "2021-11-23T16:49:48.473620Z"
    },
    "scrolled": true
   },
   "outputs": [
    {
     "name": "stdout",
     "output_type": "stream",
     "text": [
      "tensor([   80,   942,    11,  3708,   633,    44,    38,    34,    19,    79,\n",
      "          401,   432,    44,  2465,     4,    22,    11,    63,    26,    21,\n",
      "           13,  4679,   942,   334,  1124,     7,     2,   648,    11,  1358,\n",
      "            5,     3,   817,    12,   648,     9, 13703,    39,  1981,    19,\n",
      "            7,     2,     9,  2791,    25,     1,     1])\n"
     ]
    }
   ],
   "source": [
    "print(data.text[-1])"
   ]
  },
  {
   "cell_type": "code",
   "execution_count": 84,
   "metadata": {
    "ExecuteTime": {
     "end_time": "2021-11-23T16:50:09.336818Z",
     "start_time": "2021-11-23T16:50:09.331448Z"
    }
   },
   "outputs": [
    {
     "data": {
      "text/plain": [
       "47"
      ]
     },
     "execution_count": 84,
     "metadata": {},
     "output_type": "execute_result"
    }
   ],
   "source": [
    "len(data.text[-1])"
   ]
  },
  {
   "cell_type": "code",
   "execution_count": 83,
   "metadata": {
    "ExecuteTime": {
     "end_time": "2021-11-23T16:49:49.828171Z",
     "start_time": "2021-11-23T16:49:49.823025Z"
    }
   },
   "outputs": [
    {
     "name": "stdout",
     "output_type": "stream",
     "text": [
      "상품 소재 가 인조 가죽 으로 되 어 있 어서 화면 상 으로 구분 이 안 가 서 구매 했 는데 나일론 소재 라서 놀랐 네요 . 지퍼 가 뻑뻑 하 고 안쪽 은 지퍼 에 물려서 ? 껴 있 네요 . 에 효 ~ <pad> <pad>\n"
     ]
    }
   ],
   "source": [
    "x = data.text[-1]\n",
    "line = []\n",
    "for x_i in x:\n",
    "    line += [loaders.text.vocab.itos[x_i]]\n",
    "    \n",
    "print(' '.join(line))"
   ]
  },
  {
   "cell_type": "code",
   "execution_count": null,
   "metadata": {},
   "outputs": [],
   "source": []
  }
 ],
 "metadata": {
  "hide_input": false,
  "kernelspec": {
   "display_name": "Python 3 (ipykernel)",
   "language": "python",
   "name": "python3"
  },
  "language_info": {
   "codemirror_mode": {
    "name": "ipython",
    "version": 3
   },
   "file_extension": ".py",
   "mimetype": "text/x-python",
   "name": "python",
   "nbconvert_exporter": "python",
   "pygments_lexer": "ipython3",
   "version": "3.8.5"
  },
  "toc": {
   "base_numbering": 1,
   "nav_menu": {},
   "number_sections": true,
   "sideBar": true,
   "skip_h1_title": false,
   "title_cell": "Table of Contents",
   "title_sidebar": "Contents",
   "toc_cell": false,
   "toc_position": {},
   "toc_section_display": true,
   "toc_window_display": false
  },
  "varInspector": {
   "cols": {
    "lenName": 16,
    "lenType": 16,
    "lenVar": 40
   },
   "kernels_config": {
    "python": {
     "delete_cmd_postfix": "",
     "delete_cmd_prefix": "del ",
     "library": "var_list.py",
     "varRefreshCmd": "print(var_dic_list())"
    },
    "r": {
     "delete_cmd_postfix": ") ",
     "delete_cmd_prefix": "rm(",
     "library": "var_list.r",
     "varRefreshCmd": "cat(var_dic_list()) "
    }
   },
   "types_to_exclude": [
    "module",
    "function",
    "builtin_function_or_method",
    "instance",
    "_Feature"
   ],
   "window_display": false
  }
 },
 "nbformat": 4,
 "nbformat_minor": 4
}
