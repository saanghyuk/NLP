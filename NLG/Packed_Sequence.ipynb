{
 "cells": [
  {
   "cell_type": "markdown",
   "id": "ef80894f",
   "metadata": {},
   "source": [
    "### [Reference Stackoverflow](https://stackoverflow.com/questions/51030782/why-do-we-pack-the-sequences-in-pytorch)"
   ]
  },
  {
   "cell_type": "code",
   "execution_count": 2,
   "id": "9c16cbe2",
   "metadata": {
    "ExecuteTime": {
     "end_time": "2021-11-29T16:51:35.409117Z",
     "start_time": "2021-11-29T16:51:35.406110Z"
    }
   },
   "outputs": [],
   "source": [
    "import torch\n",
    "import torch.nn as nn\n",
    "from torch.nn.utils.rnn import pack_padded_sequence\n",
    "from torch.nn.utils.rnn import pad_packed_sequence"
   ]
  },
  {
   "cell_type": "code",
   "execution_count": 3,
   "id": "1abc7196",
   "metadata": {
    "ExecuteTime": {
     "end_time": "2021-11-29T16:51:36.599461Z",
     "start_time": "2021-11-29T16:51:36.595742Z"
    }
   },
   "outputs": [],
   "source": [
    "import torch \n",
    "\n",
    "seq_batch = [torch.tensor([[1, 1],\n",
    "                           [2, 2],\n",
    "                           [3, 3],\n",
    "                           [4, 4],\n",
    "                           [5, 5]]),\n",
    "             torch.tensor([[10, 10],\n",
    "                           [20, 20]])]\n",
    "\n",
    "seq_lens = [5, 2]"
   ]
  },
  {
   "cell_type": "code",
   "execution_count": 4,
   "id": "35271093",
   "metadata": {
    "ExecuteTime": {
     "end_time": "2021-11-29T16:51:39.116289Z",
     "start_time": "2021-11-29T16:51:39.108867Z"
    },
    "code_folding": [
     10
    ]
   },
   "outputs": [
    {
     "data": {
      "text/plain": [
       "'\\n>>>padded_seq_batch\\ntensor([[[ 1,  1],\\n         [ 2,  2],\\n         [ 3,  3],\\n         [ 4,  4],\\n         [ 5,  5]],\\n\\n        [[10, 10],\\n         [20, 20],\\n         [ 0,  0],\\n         [ 0,  0],\\n         [ 0,  0]]])\\n'"
      ]
     },
     "execution_count": 4,
     "metadata": {},
     "output_type": "execute_result"
    }
   ],
   "source": [
    "# pad the seq_batch\n",
    "padded_seq_batch = torch.nn.utils.rnn.pad_sequence(seq_batch, batch_first=True)\n",
    "\"\"\"\n",
    ">>>padded_seq_batch\n",
    "tensor([[[ 1,  1],\n",
    "         [ 2,  2],\n",
    "         [ 3,  3],\n",
    "         [ 4,  4],\n",
    "         [ 5,  5]],\n",
    "\n",
    "        [[10, 10],\n",
    "         [20, 20],\n",
    "         [ 0,  0],\n",
    "         [ 0,  0],\n",
    "         [ 0,  0]]])\n",
    "\"\"\""
   ]
  },
  {
   "cell_type": "code",
   "execution_count": 15,
   "id": "6eeac294",
   "metadata": {
    "ExecuteTime": {
     "end_time": "2021-11-30T06:50:31.252251Z",
     "start_time": "2021-11-30T06:50:31.246288Z"
    }
   },
   "outputs": [
    {
     "data": {
      "text/plain": [
       "tensor([[[ 1,  1],\n",
       "         [ 2,  2],\n",
       "         [ 3,  3],\n",
       "         [ 4,  4],\n",
       "         [ 5,  5]],\n",
       "\n",
       "        [[10, 10],\n",
       "         [20, 20],\n",
       "         [ 0,  0],\n",
       "         [ 0,  0],\n",
       "         [ 0,  0]]])"
      ]
     },
     "execution_count": 15,
     "metadata": {},
     "output_type": "execute_result"
    }
   ],
   "source": [
    "padded_seq_batch"
   ]
  },
  {
   "cell_type": "code",
   "execution_count": 16,
   "id": "31b417a6",
   "metadata": {
    "ExecuteTime": {
     "end_time": "2021-11-30T06:50:32.647847Z",
     "start_time": "2021-11-30T06:50:32.641438Z"
    }
   },
   "outputs": [
    {
     "data": {
      "text/plain": [
       "PackedSequence(data=tensor([[ 1,  1],\n",
       "        [10, 10],\n",
       "        [ 2,  2],\n",
       "        [20, 20],\n",
       "        [ 3,  3],\n",
       "        [ 4,  4],\n",
       "        [ 5,  5]]), batch_sizes=tensor([2, 2, 1, 1, 1]), sorted_indices=None, unsorted_indices=None)"
      ]
     },
     "execution_count": 16,
     "metadata": {},
     "output_type": "execute_result"
    }
   ],
   "source": [
    "# pack the padded_seq_batch\n",
    "packed_seq_batch = torch.nn.utils.rnn.pack_padded_sequence(padded_seq_batch, lengths=seq_lens, batch_first=True)\n",
    "\"\"\"\n",
    ">>> packed_seq_batch\n",
    "PackedSequence(\n",
    "   data=tensor([[ 1,  1],\n",
    "                [10, 10],\n",
    "                [ 2,  2],\n",
    "                [20, 20],\n",
    "                [ 3,  3],\n",
    "                [ 4,  4],\n",
    "                [ 5,  5]]), \n",
    "   batch_sizes=tensor([2, 2, 1, 1, 1]))\n",
    "\"\"\"\n",
    "packed_seq_batch"
   ]
  },
  {
   "cell_type": "code",
   "execution_count": 8,
   "id": "cbc2e37e",
   "metadata": {
    "ExecuteTime": {
     "end_time": "2021-11-29T16:55:17.097316Z",
     "start_time": "2021-11-29T16:55:17.091492Z"
    }
   },
   "outputs": [],
   "source": [
    "# input size : input vector size of each time stamp\n",
    "# hidden size : hidden vector size(output)\n",
    "lstm = nn.LSTM(input_size=2, hidden_size=3, batch_first=True)\n",
    "output, (hn, cn) = lstm(packed_seq_batch.float())"
   ]
  },
  {
   "cell_type": "code",
   "execution_count": 9,
   "id": "6fb872f6",
   "metadata": {
    "ExecuteTime": {
     "end_time": "2021-11-29T16:55:19.235117Z",
     "start_time": "2021-11-29T16:55:19.229848Z"
    }
   },
   "outputs": [
    {
     "data": {
      "text/plain": [
       "PackedSequence(data=tensor([[9.6369e-03, 7.6992e-02, 1.3758e-02],\n",
       "        [1.0080e-01, 3.6183e-03, 1.9047e-05],\n",
       "        [9.7091e-02, 1.1201e-01, 4.0262e-02],\n",
       "        [2.7153e-02, 3.2999e-03, 2.0086e-05],\n",
       "        [1.4345e-01, 1.2920e-01, 5.7135e-02],\n",
       "        [1.5237e-01, 1.3640e-01, 6.6257e-02],\n",
       "        [1.4731e-01, 1.3819e-01, 7.1561e-02]], grad_fn=<CatBackward0>), batch_sizes=tensor([2, 2, 1, 1, 1]), sorted_indices=None, unsorted_indices=None)"
      ]
     },
     "execution_count": 9,
     "metadata": {},
     "output_type": "execute_result"
    }
   ],
   "source": [
    "output"
   ]
  },
  {
   "cell_type": "code",
   "execution_count": 10,
   "id": "3a300567",
   "metadata": {
    "ExecuteTime": {
     "end_time": "2021-11-29T16:55:22.328357Z",
     "start_time": "2021-11-29T16:55:22.323392Z"
    }
   },
   "outputs": [
    {
     "data": {
      "text/plain": [
       "tensor([[[1.4731e-01, 1.3819e-01, 7.1561e-02],\n",
       "         [2.7153e-02, 3.2999e-03, 2.0086e-05]]], grad_fn=<StackBackward0>)"
      ]
     },
     "execution_count": 10,
     "metadata": {},
     "output_type": "execute_result"
    }
   ],
   "source": [
    "hn"
   ]
  },
  {
   "cell_type": "code",
   "execution_count": 11,
   "id": "b0fe33c7",
   "metadata": {
    "ExecuteTime": {
     "end_time": "2021-11-29T16:55:23.949439Z",
     "start_time": "2021-11-29T16:55:23.944977Z"
    }
   },
   "outputs": [
    {
     "data": {
      "text/plain": [
       "tensor([[[5.0977e-01, 6.1316e-01, 9.3382e-02],\n",
       "         [9.1511e-01, 1.6663e-02, 2.0128e-05]]], grad_fn=<StackBackward0>)"
      ]
     },
     "execution_count": 11,
     "metadata": {},
     "output_type": "execute_result"
    }
   ],
   "source": [
    "cn"
   ]
  },
  {
   "cell_type": "code",
   "execution_count": 12,
   "id": "9697fe9d",
   "metadata": {
    "ExecuteTime": {
     "end_time": "2021-11-29T17:00:29.391914Z",
     "start_time": "2021-11-29T17:00:29.388606Z"
    }
   },
   "outputs": [],
   "source": [
    "padded_output, output_lens = torch.nn.utils.rnn.pad_packed_sequence(output, batch_first=True)"
   ]
  },
  {
   "cell_type": "code",
   "execution_count": 13,
   "id": "afc75e14",
   "metadata": {
    "ExecuteTime": {
     "end_time": "2021-11-29T17:00:33.680644Z",
     "start_time": "2021-11-29T17:00:33.675112Z"
    }
   },
   "outputs": [
    {
     "data": {
      "text/plain": [
       "tensor([[[9.6369e-03, 7.6992e-02, 1.3758e-02],\n",
       "         [9.7091e-02, 1.1201e-01, 4.0262e-02],\n",
       "         [1.4345e-01, 1.2920e-01, 5.7135e-02],\n",
       "         [1.5237e-01, 1.3640e-01, 6.6257e-02],\n",
       "         [1.4731e-01, 1.3819e-01, 7.1561e-02]],\n",
       "\n",
       "        [[1.0080e-01, 3.6183e-03, 1.9047e-05],\n",
       "         [2.7153e-02, 3.2999e-03, 2.0086e-05],\n",
       "         [0.0000e+00, 0.0000e+00, 0.0000e+00],\n",
       "         [0.0000e+00, 0.0000e+00, 0.0000e+00],\n",
       "         [0.0000e+00, 0.0000e+00, 0.0000e+00]]], grad_fn=<TransposeBackward0>)"
      ]
     },
     "execution_count": 13,
     "metadata": {},
     "output_type": "execute_result"
    }
   ],
   "source": [
    "padded_output"
   ]
  },
  {
   "cell_type": "code",
   "execution_count": 14,
   "id": "2cb25a95",
   "metadata": {
    "ExecuteTime": {
     "end_time": "2021-11-29T17:00:50.118304Z",
     "start_time": "2021-11-29T17:00:50.112605Z"
    }
   },
   "outputs": [
    {
     "data": {
      "text/plain": [
       "tensor([5, 2])"
      ]
     },
     "execution_count": 14,
     "metadata": {},
     "output_type": "execute_result"
    }
   ],
   "source": [
    "output_lens"
   ]
  },
  {
   "cell_type": "code",
   "execution_count": null,
   "id": "3a45c4c1",
   "metadata": {},
   "outputs": [],
   "source": []
  },
  {
   "cell_type": "code",
   "execution_count": null,
   "id": "b7d3d6ed",
   "metadata": {},
   "outputs": [],
   "source": []
  },
  {
   "cell_type": "code",
   "execution_count": 81,
   "id": "0dc17894",
   "metadata": {
    "ExecuteTime": {
     "end_time": "2021-12-04T19:27:14.146504Z",
     "start_time": "2021-12-04T19:27:14.139794Z"
    }
   },
   "outputs": [
    {
     "data": {
      "text/plain": [
       "tensor([0., -inf, -inf, -inf, -inf])"
      ]
     },
     "execution_count": 81,
     "metadata": {},
     "output_type": "execute_result"
    }
   ],
   "source": [
    "cumulative_probs = [torch.FloatTensor([.0] + [-float('inf')] * (5 - 1))]\n",
    "a = cumulative_probs + cumulative_probs\n",
    "a[-1]"
   ]
  },
  {
   "cell_type": "code",
   "execution_count": 49,
   "id": "7401af0f",
   "metadata": {
    "ExecuteTime": {
     "end_time": "2021-12-04T18:22:32.344604Z",
     "start_time": "2021-12-04T18:22:32.339377Z"
    }
   },
   "outputs": [
    {
     "data": {
      "text/plain": [
       "[tensor([False, False, False, False, False])]"
      ]
     },
     "execution_count": 49,
     "metadata": {},
     "output_type": "execute_result"
    }
   ],
   "source": [
    "masks = [torch.BoolTensor(5).zero_()]\n",
    "masks"
   ]
  },
  {
   "cell_type": "code",
   "execution_count": 79,
   "id": "492557d9",
   "metadata": {
    "ExecuteTime": {
     "end_time": "2021-12-04T19:26:38.723916Z",
     "start_time": "2021-12-04T19:26:38.712288Z"
    }
   },
   "outputs": [
    {
     "ename": "TypeError",
     "evalue": "eq() received an invalid combination of arguments - got (str, int), but expected one of:\n * (Tensor input, Tensor other, *, Tensor out)\n * (Tensor input, Number other, *, Tensor out)\n",
     "output_type": "error",
     "traceback": [
      "\u001b[0;31m---------------------------------------------------------------------------\u001b[0m",
      "\u001b[0;31mTypeError\u001b[0m                                 Traceback (most recent call last)",
      "\u001b[0;32m/var/folders/zv/bq3zr8t97_12jyw8m8jbgwyc0000gn/T/ipykernel_9018/1858507971.py\u001b[0m in \u001b[0;36m<module>\u001b[0;34m\u001b[0m\n\u001b[0;32m----> 1\u001b[0;31m \u001b[0mmasks\u001b[0m \u001b[0;34m+\u001b[0m \u001b[0;34m[\u001b[0m\u001b[0mtorch\u001b[0m\u001b[0;34m.\u001b[0m\u001b[0meq\u001b[0m\u001b[0;34m(\u001b[0m\u001b[0;34m(\u001b[0m\u001b[0;34m\"hi\"\u001b[0m\u001b[0;34m)\u001b[0m\u001b[0;34m,\u001b[0m \u001b[0;36m1\u001b[0m\u001b[0;34m)\u001b[0m\u001b[0;34m]\u001b[0m\u001b[0;34m\u001b[0m\u001b[0;34m\u001b[0m\u001b[0m\n\u001b[0m",
      "\u001b[0;31mTypeError\u001b[0m: eq() received an invalid combination of arguments - got (str, int), but expected one of:\n * (Tensor input, Tensor other, *, Tensor out)\n * (Tensor input, Number other, *, Tensor out)\n"
     ]
    }
   ],
   "source": [
    "torch"
   ]
  },
  {
   "cell_type": "code",
   "execution_count": 50,
   "id": "a29a077f",
   "metadata": {
    "ExecuteTime": {
     "end_time": "2021-12-04T18:23:03.263469Z",
     "start_time": "2021-12-04T18:23:03.253270Z"
    }
   },
   "outputs": [
    {
     "data": {
      "text/plain": [
       "tensor([0., -inf, -inf, -inf, -inf])"
      ]
     },
     "execution_count": 50,
     "metadata": {},
     "output_type": "execute_result"
    }
   ],
   "source": [
    "cumulative_probs[-1].masked_fill_(masks[-1], -float('inf'))"
   ]
  },
  {
   "cell_type": "code",
   "execution_count": 54,
   "id": "e05a9303",
   "metadata": {
    "ExecuteTime": {
     "end_time": "2021-12-04T18:29:06.557518Z",
     "start_time": "2021-12-04T18:29:06.547443Z"
    }
   },
   "outputs": [
    {
     "data": {
      "text/plain": [
       "tensor([[[5., 5., 5., 5., 5., 5., 5., 5., 5., 5., 5., 5., 5., 5., 5., 5., 5.,\n",
       "          5., 5., 5., 5., 5., 5., 5., 5., 5., 5., 5., 5., 5., 5., 5., 5., 5.,\n",
       "          5., 5., 5., 5., 5., 5., 5., 5., 5., 5., 5., 5., 5., 5., 5., 5., 5.,\n",
       "          5., 5., 5., 5., 5., 5., 5., 5., 5., 5., 5., 5., 5., 5., 5., 5., 5.,\n",
       "          5., 5., 5., 5., 5., 5., 5., 5., 5., 5., 5., 5., 5., 5., 5., 5., 5.,\n",
       "          5., 5., 5., 5., 5., 5., 5., 5., 5., 5., 5., 5., 5., 5., 5.]],\n",
       "\n",
       "        [[-inf, -inf, -inf, -inf, -inf, -inf, -inf, -inf, -inf, -inf, -inf, -inf, -inf, -inf, -inf, -inf, -inf,\n",
       "          -inf, -inf, -inf, -inf, -inf, -inf, -inf, -inf, -inf, -inf, -inf, -inf, -inf, -inf, -inf, -inf, -inf,\n",
       "          -inf, -inf, -inf, -inf, -inf, -inf, -inf, -inf, -inf, -inf, -inf, -inf, -inf, -inf, -inf, -inf, -inf,\n",
       "          -inf, -inf, -inf, -inf, -inf, -inf, -inf, -inf, -inf, -inf, -inf, -inf, -inf, -inf, -inf, -inf, -inf,\n",
       "          -inf, -inf, -inf, -inf, -inf, -inf, -inf, -inf, -inf, -inf, -inf, -inf, -inf, -inf, -inf, -inf, -inf,\n",
       "          -inf, -inf, -inf, -inf, -inf, -inf, -inf, -inf, -inf, -inf, -inf, -inf, -inf, -inf, -inf]],\n",
       "\n",
       "        [[8., 8., 8., 8., 8., 8., 8., 8., 8., 8., 8., 8., 8., 8., 8., 8., 8.,\n",
       "          8., 8., 8., 8., 8., 8., 8., 8., 8., 8., 8., 8., 8., 8., 8., 8., 8.,\n",
       "          8., 8., 8., 8., 8., 8., 8., 8., 8., 8., 8., 8., 8., 8., 8., 8., 8.,\n",
       "          8., 8., 8., 8., 8., 8., 8., 8., 8., 8., 8., 8., 8., 8., 8., 8., 8.,\n",
       "          8., 8., 8., 8., 8., 8., 8., 8., 8., 8., 8., 8., 8., 8., 8., 8., 8.,\n",
       "          8., 8., 8., 8., 8., 8., 8., 8., 8., 8., 8., 8., 8., 8., 8.]],\n",
       "\n",
       "        [[6., 6., 6., 6., 6., 6., 6., 6., 6., 6., 6., 6., 6., 6., 6., 6., 6.,\n",
       "          6., 6., 6., 6., 6., 6., 6., 6., 6., 6., 6., 6., 6., 6., 6., 6., 6.,\n",
       "          6., 6., 6., 6., 6., 6., 6., 6., 6., 6., 6., 6., 6., 6., 6., 6., 6.,\n",
       "          6., 6., 6., 6., 6., 6., 6., 6., 6., 6., 6., 6., 6., 6., 6., 6., 6.,\n",
       "          6., 6., 6., 6., 6., 6., 6., 6., 6., 6., 6., 6., 6., 6., 6., 6., 6.,\n",
       "          6., 6., 6., 6., 6., 6., 6., 6., 6., 6., 6., 6., 6., 6., 6.]],\n",
       "\n",
       "        [[-inf, -inf, -inf, -inf, -inf, -inf, -inf, -inf, -inf, -inf, -inf, -inf, -inf, -inf, -inf, -inf, -inf,\n",
       "          -inf, -inf, -inf, -inf, -inf, -inf, -inf, -inf, -inf, -inf, -inf, -inf, -inf, -inf, -inf, -inf, -inf,\n",
       "          -inf, -inf, -inf, -inf, -inf, -inf, -inf, -inf, -inf, -inf, -inf, -inf, -inf, -inf, -inf, -inf, -inf,\n",
       "          -inf, -inf, -inf, -inf, -inf, -inf, -inf, -inf, -inf, -inf, -inf, -inf, -inf, -inf, -inf, -inf, -inf,\n",
       "          -inf, -inf, -inf, -inf, -inf, -inf, -inf, -inf, -inf, -inf, -inf, -inf, -inf, -inf, -inf, -inf, -inf,\n",
       "          -inf, -inf, -inf, -inf, -inf, -inf, -inf, -inf, -inf, -inf, -inf, -inf, -inf, -inf, -inf]]])"
      ]
     },
     "execution_count": 54,
     "metadata": {},
     "output_type": "execute_result"
    }
   ],
   "source": [
    "torch.FloatTensor([5, -float('inf'), 8, 6, -float(\"inf\")]).view(-1, 1, 1).expand(5, 1, 100)"
   ]
  },
  {
   "cell_type": "code",
   "execution_count": 57,
   "id": "36a8aa9c",
   "metadata": {
    "ExecuteTime": {
     "end_time": "2021-12-04T18:31:21.834287Z",
     "start_time": "2021-12-04T18:31:21.819169Z"
    }
   },
   "outputs": [
    {
     "data": {
      "text/plain": [
       "tensor([[[5., 5., 5., 5., 5., 5., 5., 5., 5., 5., 5., 5., 5., 5., 5., 5., 5.,\n",
       "          5., 5., 5., 5., 5., 5., 5., 5., 5., 5., 5., 5., 5., 5., 5., 5., 5.,\n",
       "          5., 5., 5., 5., 5., 5., 5., 5., 5., 5., 5., 5., 5., 5., 5., 5., 5.,\n",
       "          5., 5., 5., 5., 5., 5., 5., 5., 5., 5., 5., 5., 5., 5., 5., 5., 5.,\n",
       "          5., 5., 5., 5., 5., 5., 5., 5., 5., 5., 5., 5., 5., 5., 5., 5., 5.,\n",
       "          5., 5., 5., 5., 5., 5., 5., 5., 5., 5., 5., 5., 5., 5., 5.]],\n",
       "\n",
       "        [[-inf, -inf, -inf, -inf, -inf, -inf, -inf, -inf, -inf, -inf, -inf, -inf, -inf, -inf, -inf, -inf, -inf,\n",
       "          -inf, -inf, -inf, -inf, -inf, -inf, -inf, -inf, -inf, -inf, -inf, -inf, -inf, -inf, -inf, -inf, -inf,\n",
       "          -inf, -inf, -inf, -inf, -inf, -inf, -inf, -inf, -inf, -inf, -inf, -inf, -inf, -inf, -inf, -inf, -inf,\n",
       "          -inf, -inf, -inf, -inf, -inf, -inf, -inf, -inf, -inf, -inf, -inf, -inf, -inf, -inf, -inf, -inf, -inf,\n",
       "          -inf, -inf, -inf, -inf, -inf, -inf, -inf, -inf, -inf, -inf, -inf, -inf, -inf, -inf, -inf, -inf, -inf,\n",
       "          -inf, -inf, -inf, -inf, -inf, -inf, -inf, -inf, -inf, -inf, -inf, -inf, -inf, -inf, -inf]],\n",
       "\n",
       "        [[8., 8., 8., 8., 8., 8., 8., 8., 8., 8., 8., 8., 8., 8., 8., 8., 8.,\n",
       "          8., 8., 8., 8., 8., 8., 8., 8., 8., 8., 8., 8., 8., 8., 8., 8., 8.,\n",
       "          8., 8., 8., 8., 8., 8., 8., 8., 8., 8., 8., 8., 8., 8., 8., 8., 8.,\n",
       "          8., 8., 8., 8., 8., 8., 8., 8., 8., 8., 8., 8., 8., 8., 8., 8., 8.,\n",
       "          8., 8., 8., 8., 8., 8., 8., 8., 8., 8., 8., 8., 8., 8., 8., 8., 8.,\n",
       "          8., 8., 8., 8., 8., 8., 8., 8., 8., 8., 8., 8., 8., 8., 8.]],\n",
       "\n",
       "        [[6., 6., 6., 6., 6., 6., 6., 6., 6., 6., 6., 6., 6., 6., 6., 6., 6.,\n",
       "          6., 6., 6., 6., 6., 6., 6., 6., 6., 6., 6., 6., 6., 6., 6., 6., 6.,\n",
       "          6., 6., 6., 6., 6., 6., 6., 6., 6., 6., 6., 6., 6., 6., 6., 6., 6.,\n",
       "          6., 6., 6., 6., 6., 6., 6., 6., 6., 6., 6., 6., 6., 6., 6., 6., 6.,\n",
       "          6., 6., 6., 6., 6., 6., 6., 6., 6., 6., 6., 6., 6., 6., 6., 6., 6.,\n",
       "          6., 6., 6., 6., 6., 6., 6., 6., 6., 6., 6., 6., 6., 6., 6.]],\n",
       "\n",
       "        [[-inf, -inf, -inf, -inf, -inf, -inf, -inf, -inf, -inf, -inf, -inf, -inf, -inf, -inf, -inf, -inf, -inf,\n",
       "          -inf, -inf, -inf, -inf, -inf, -inf, -inf, -inf, -inf, -inf, -inf, -inf, -inf, -inf, -inf, -inf, -inf,\n",
       "          -inf, -inf, -inf, -inf, -inf, -inf, -inf, -inf, -inf, -inf, -inf, -inf, -inf, -inf, -inf, -inf, -inf,\n",
       "          -inf, -inf, -inf, -inf, -inf, -inf, -inf, -inf, -inf, -inf, -inf, -inf, -inf, -inf, -inf, -inf, -inf,\n",
       "          -inf, -inf, -inf, -inf, -inf, -inf, -inf, -inf, -inf, -inf, -inf, -inf, -inf, -inf, -inf, -inf, -inf,\n",
       "          -inf, -inf, -inf, -inf, -inf, -inf, -inf, -inf, -inf, -inf, -inf, -inf, -inf, -inf, -inf]]])"
      ]
     },
     "execution_count": 57,
     "metadata": {},
     "output_type": "execute_result"
    }
   ],
   "source": [
    "torch.FloatTensor([5, -float('inf'), 8, 6, -float(\"inf\")]).view(-1, 1, 1).expand(5, 1, 100)"
   ]
  },
  {
   "cell_type": "code",
   "execution_count": 73,
   "id": "684eff87",
   "metadata": {
    "ExecuteTime": {
     "end_time": "2021-12-04T18:35:39.072193Z",
     "start_time": "2021-12-04T18:35:39.062686Z"
    }
   },
   "outputs": [
    {
     "data": {
      "text/plain": [
       "tensor([[[5., 5., 5., 5., 5., 5., 5., 5., 5., 5., 5., 5., 5., 5., 5., 5., 5.,\n",
       "          5., 5., 5., 5., 5., 5., 5., 5., 5., 5., 5., 5., 5., 5., 5., 5., 5.,\n",
       "          5., 5., 5., 5., 5., 5., 5., 5., 5., 5., 5., 5., 5., 5., 5., 5., 5.,\n",
       "          5., 5., 5., 5., 5., 5., 5., 5., 5., 5., 5., 5., 5., 5., 5., 5., 5.,\n",
       "          5., 5., 5., 5., 5., 5., 5., 5., 5., 5., 5., 5., 5., 5., 5., 5., 5.,\n",
       "          5., 5., 5., 5., 5., 5., 5., 5., 5., 5., 5., 5., 5., 5., 5.]],\n",
       "\n",
       "        [[-inf, -inf, -inf, -inf, -inf, -inf, -inf, -inf, -inf, -inf, -inf, -inf, -inf, -inf, -inf, -inf, -inf,\n",
       "          -inf, -inf, -inf, -inf, -inf, -inf, -inf, -inf, -inf, -inf, -inf, -inf, -inf, -inf, -inf, -inf, -inf,\n",
       "          -inf, -inf, -inf, -inf, -inf, -inf, -inf, -inf, -inf, -inf, -inf, -inf, -inf, -inf, -inf, -inf, -inf,\n",
       "          -inf, -inf, -inf, -inf, -inf, -inf, -inf, -inf, -inf, -inf, -inf, -inf, -inf, -inf, -inf, -inf, -inf,\n",
       "          -inf, -inf, -inf, -inf, -inf, -inf, -inf, -inf, -inf, -inf, -inf, -inf, -inf, -inf, -inf, -inf, -inf,\n",
       "          -inf, -inf, -inf, -inf, -inf, -inf, -inf, -inf, -inf, -inf, -inf, -inf, -inf, -inf, -inf]],\n",
       "\n",
       "        [[8., 8., 8., 8., 8., 8., 8., 8., 8., 8., 8., 8., 8., 8., 8., 8., 8.,\n",
       "          8., 8., 8., 8., 8., 8., 8., 8., 8., 8., 8., 8., 8., 8., 8., 8., 8.,\n",
       "          8., 8., 8., 8., 8., 8., 8., 8., 8., 8., 8., 8., 8., 8., 8., 8., 8.,\n",
       "          8., 8., 8., 8., 8., 8., 8., 8., 8., 8., 8., 8., 8., 8., 8., 8., 8.,\n",
       "          8., 8., 8., 8., 8., 8., 8., 8., 8., 8., 8., 8., 8., 8., 8., 8., 8.,\n",
       "          8., 8., 8., 8., 8., 8., 8., 8., 8., 8., 8., 8., 8., 8., 8.]],\n",
       "\n",
       "        [[6., 6., 6., 6., 6., 6., 6., 6., 6., 6., 6., 6., 6., 6., 6., 6., 6.,\n",
       "          6., 6., 6., 6., 6., 6., 6., 6., 6., 6., 6., 6., 6., 6., 6., 6., 6.,\n",
       "          6., 6., 6., 6., 6., 6., 6., 6., 6., 6., 6., 6., 6., 6., 6., 6., 6.,\n",
       "          6., 6., 6., 6., 6., 6., 6., 6., 6., 6., 6., 6., 6., 6., 6., 6., 6.,\n",
       "          6., 6., 6., 6., 6., 6., 6., 6., 6., 6., 6., 6., 6., 6., 6., 6., 6.,\n",
       "          6., 6., 6., 6., 6., 6., 6., 6., 6., 6., 6., 6., 6., 6., 6.]],\n",
       "\n",
       "        [[-inf, -inf, -inf, -inf, -inf, -inf, -inf, -inf, -inf, -inf, -inf, -inf, -inf, -inf, -inf, -inf, -inf,\n",
       "          -inf, -inf, -inf, -inf, -inf, -inf, -inf, -inf, -inf, -inf, -inf, -inf, -inf, -inf, -inf, -inf, -inf,\n",
       "          -inf, -inf, -inf, -inf, -inf, -inf, -inf, -inf, -inf, -inf, -inf, -inf, -inf, -inf, -inf, -inf, -inf,\n",
       "          -inf, -inf, -inf, -inf, -inf, -inf, -inf, -inf, -inf, -inf, -inf, -inf, -inf, -inf, -inf, -inf, -inf,\n",
       "          -inf, -inf, -inf, -inf, -inf, -inf, -inf, -inf, -inf, -inf, -inf, -inf, -inf, -inf, -inf, -inf, -inf,\n",
       "          -inf, -inf, -inf, -inf, -inf, -inf, -inf, -inf, -inf, -inf, -inf, -inf, -inf, -inf, -inf]]])"
      ]
     },
     "execution_count": 73,
     "metadata": {},
     "output_type": "execute_result"
    }
   ],
   "source": [
    "torch.FloatTensor([5, -float('inf'), 8, 6, -float(\"inf\")]).view(-1, 1, 1).expand(5, 1, 100)"
   ]
  },
  {
   "cell_type": "code",
   "execution_count": 84,
   "id": "17152314",
   "metadata": {
    "ExecuteTime": {
     "end_time": "2021-12-04T19:33:00.365069Z",
     "start_time": "2021-12-04T19:33:00.361779Z"
    }
   },
   "outputs": [],
   "source": [
    "probs = []\n",
    "probs += [0.3]\n",
    "probs += [0.7]"
   ]
  },
  {
   "cell_type": "code",
   "execution_count": 85,
   "id": "724a0bc8",
   "metadata": {
    "ExecuteTime": {
     "end_time": "2021-12-04T19:33:03.522675Z",
     "start_time": "2021-12-04T19:33:03.519019Z"
    }
   },
   "outputs": [
    {
     "data": {
      "text/plain": [
       "[0.3, 0.7]"
      ]
     },
     "execution_count": 85,
     "metadata": {},
     "output_type": "execute_result"
    }
   ],
   "source": [
    "probs"
   ]
  },
  {
   "cell_type": "code",
   "execution_count": 100,
   "id": "8aa40e71",
   "metadata": {
    "ExecuteTime": {
     "end_time": "2021-12-05T07:04:43.580220Z",
     "start_time": "2021-12-05T07:04:43.574997Z"
    }
   },
   "outputs": [
    {
     "data": {
      "text/plain": [
       "tensor([[ 2,  4,  6],\n",
       "        [ 8, 10, 12]])"
      ]
     },
     "execution_count": 100,
     "metadata": {},
     "output_type": "execute_result"
    }
   ],
   "source": [
    "torch.tensor(np.array([[1, 2, 3], [4, 5, 6]]))*2"
   ]
  },
  {
   "cell_type": "code",
   "execution_count": 105,
   "id": "e3f40e3d",
   "metadata": {
    "ExecuteTime": {
     "end_time": "2021-12-05T07:05:39.234049Z",
     "start_time": "2021-12-05T07:05:39.229680Z"
    }
   },
   "outputs": [
    {
     "data": {
      "text/plain": [
       "[[1, 2, 3], [4, 5, 6]]"
      ]
     },
     "execution_count": 105,
     "metadata": {},
     "output_type": "execute_result"
    }
   ],
   "source": [
    "[[1, 2, 3], [4, 5, 6]]"
   ]
  },
  {
   "cell_type": "code",
   "execution_count": 107,
   "id": "2b3a3513",
   "metadata": {
    "ExecuteTime": {
     "end_time": "2021-12-05T07:05:43.633783Z",
     "start_time": "2021-12-05T07:05:43.629355Z"
    }
   },
   "outputs": [
    {
     "data": {
      "text/plain": [
       "[[1, 2, 3], [4, 5, 6], [1, 2, 3], [4, 5, 6], [1, 2, 3], [4, 5, 6]]"
      ]
     },
     "execution_count": 107,
     "metadata": {},
     "output_type": "execute_result"
    }
   ],
   "source": [
    "[[1, 2, 3], [4, 5, 6]] * 3"
   ]
  },
  {
   "cell_type": "code",
   "execution_count": 123,
   "id": "ca23e1df",
   "metadata": {
    "ExecuteTime": {
     "end_time": "2021-12-05T07:24:31.706890Z",
     "start_time": "2021-12-05T07:24:31.702357Z"
    }
   },
   "outputs": [
    {
     "data": {
      "text/plain": [
       "torch.Size([2])"
      ]
     },
     "execution_count": 123,
     "metadata": {},
     "output_type": "execute_result"
    }
   ],
   "source": [
    "hi = []+[torch.rand(2, )]\n",
    "\n",
    "torch.cat(hi,  dim=0).shape"
   ]
  },
  {
   "cell_type": "code",
   "execution_count": 125,
   "id": "fdf4dc0e",
   "metadata": {
    "ExecuteTime": {
     "end_time": "2021-12-05T07:24:39.493725Z",
     "start_time": "2021-12-05T07:24:39.488657Z"
    }
   },
   "outputs": [
    {
     "data": {
      "text/plain": [
       "[tensor([0.8672, 0.9692])]"
      ]
     },
     "execution_count": 125,
     "metadata": {},
     "output_type": "execute_result"
    }
   ],
   "source": [
    "[torch.rand(2, )]"
   ]
  },
  {
   "cell_type": "code",
   "execution_count": 116,
   "id": "1f28bd2b",
   "metadata": {
    "ExecuteTime": {
     "end_time": "2021-12-05T07:07:47.837253Z",
     "start_time": "2021-12-05T07:07:47.832966Z"
    }
   },
   "outputs": [
    {
     "data": {
      "text/plain": [
       "torch.Size([2, 3, 3])"
      ]
     },
     "execution_count": 116,
     "metadata": {},
     "output_type": "execute_result"
    }
   ],
   "source": [
    "torch.cat([torch.rand(2, 1, 3)]*3, dim=1).shape"
   ]
  },
  {
   "cell_type": "code",
   "execution_count": 129,
   "id": "b89bbc55",
   "metadata": {
    "ExecuteTime": {
     "end_time": "2021-12-05T07:26:48.184360Z",
     "start_time": "2021-12-05T07:26:48.179532Z"
    }
   },
   "outputs": [
    {
     "data": {
      "text/plain": [
       "torch.Size([2, 5, 3])"
      ]
     },
     "execution_count": 129,
     "metadata": {},
     "output_type": "execute_result"
    }
   ],
   "source": [
    "fab_hidden = []+[torch.rand(2, 5, 3)]\n",
    "torch.cat(fab_hidden, dim=1).shape"
   ]
  },
  {
   "cell_type": "code",
   "execution_count": 131,
   "id": "9ae4a8b2",
   "metadata": {
    "ExecuteTime": {
     "end_time": "2021-12-05T07:30:53.137405Z",
     "start_time": "2021-12-05T07:30:53.131036Z"
    }
   },
   "outputs": [],
   "source": [
    "abc=[]\n",
    "h_src = torch.rand(2, 10, 3)\n",
    "abc += [h_src[1, :, :]] * 3"
   ]
  },
  {
   "cell_type": "code",
   "execution_count": 137,
   "id": "f25cef50",
   "metadata": {
    "ExecuteTime": {
     "end_time": "2021-12-05T07:31:55.969638Z",
     "start_time": "2021-12-05T07:31:55.964802Z"
    }
   },
   "outputs": [
    {
     "data": {
      "text/plain": [
       "torch.Size([3, 10, 3])"
      ]
     },
     "execution_count": 137,
     "metadata": {},
     "output_type": "execute_result"
    }
   ],
   "source": [
    "torch.stack(abc).shape"
   ]
  },
  {
   "cell_type": "code",
   "execution_count": 136,
   "id": "7576be39",
   "metadata": {
    "ExecuteTime": {
     "end_time": "2021-12-05T07:31:49.019798Z",
     "start_time": "2021-12-05T07:31:49.012841Z"
    }
   },
   "outputs": [
    {
     "data": {
      "text/plain": [
       "[tensor([[0.4736, 0.2630, 0.7601],\n",
       "         [0.6965, 0.7868, 0.4692],\n",
       "         [0.6470, 0.3949, 0.8984],\n",
       "         [0.4147, 0.1759, 0.7857],\n",
       "         [0.0977, 0.6804, 0.9706],\n",
       "         [0.1931, 0.6092, 0.2824],\n",
       "         [0.6803, 0.4303, 0.0380],\n",
       "         [0.1541, 0.2444, 0.5001],\n",
       "         [0.8880, 0.9470, 0.7729],\n",
       "         [0.2098, 0.0514, 0.0766]]),\n",
       " tensor([[0.4736, 0.2630, 0.7601],\n",
       "         [0.6965, 0.7868, 0.4692],\n",
       "         [0.6470, 0.3949, 0.8984],\n",
       "         [0.4147, 0.1759, 0.7857],\n",
       "         [0.0977, 0.6804, 0.9706],\n",
       "         [0.1931, 0.6092, 0.2824],\n",
       "         [0.6803, 0.4303, 0.0380],\n",
       "         [0.1541, 0.2444, 0.5001],\n",
       "         [0.8880, 0.9470, 0.7729],\n",
       "         [0.2098, 0.0514, 0.0766]]),\n",
       " tensor([[0.4736, 0.2630, 0.7601],\n",
       "         [0.6965, 0.7868, 0.4692],\n",
       "         [0.6470, 0.3949, 0.8984],\n",
       "         [0.4147, 0.1759, 0.7857],\n",
       "         [0.0977, 0.6804, 0.9706],\n",
       "         [0.1931, 0.6092, 0.2824],\n",
       "         [0.6803, 0.4303, 0.0380],\n",
       "         [0.1541, 0.2444, 0.5001],\n",
       "         [0.8880, 0.9470, 0.7729],\n",
       "         [0.2098, 0.0514, 0.0766]])]"
      ]
     },
     "execution_count": 136,
     "metadata": {},
     "output_type": "execute_result"
    }
   ],
   "source": [
    "abc"
   ]
  },
  {
   "cell_type": "code",
   "execution_count": null,
   "id": "4c770e7b",
   "metadata": {},
   "outputs": [],
   "source": []
  }
 ],
 "metadata": {
  "hide_input": false,
  "kernelspec": {
   "display_name": "Python 3 (ipykernel)",
   "language": "python",
   "name": "python3"
  },
  "language_info": {
   "codemirror_mode": {
    "name": "ipython",
    "version": 3
   },
   "file_extension": ".py",
   "mimetype": "text/x-python",
   "name": "python",
   "nbconvert_exporter": "python",
   "pygments_lexer": "ipython3",
   "version": "3.8.5"
  },
  "toc": {
   "base_numbering": 1,
   "nav_menu": {},
   "number_sections": true,
   "sideBar": true,
   "skip_h1_title": false,
   "title_cell": "Table of Contents",
   "title_sidebar": "Contents",
   "toc_cell": false,
   "toc_position": {},
   "toc_section_display": true,
   "toc_window_display": false
  },
  "varInspector": {
   "cols": {
    "lenName": 16,
    "lenType": 16,
    "lenVar": 40
   },
   "kernels_config": {
    "python": {
     "delete_cmd_postfix": "",
     "delete_cmd_prefix": "del ",
     "library": "var_list.py",
     "varRefreshCmd": "print(var_dic_list())"
    },
    "r": {
     "delete_cmd_postfix": ") ",
     "delete_cmd_prefix": "rm(",
     "library": "var_list.r",
     "varRefreshCmd": "cat(var_dic_list()) "
    }
   },
   "types_to_exclude": [
    "module",
    "function",
    "builtin_function_or_method",
    "instance",
    "_Feature"
   ],
   "window_display": false
  }
 },
 "nbformat": 4,
 "nbformat_minor": 5
}
