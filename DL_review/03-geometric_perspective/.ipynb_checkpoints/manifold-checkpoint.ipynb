{
 "cells": [
  {
   "cell_type": "code",
   "execution_count": 4,
   "metadata": {
    "ExecuteTime": {
     "end_time": "2021-11-19T15:38:30.981974Z",
     "start_time": "2021-11-19T15:38:30.979073Z"
    }
   },
   "outputs": [],
   "source": [
    "import numpy as np\n",
    "import matplotlib.pyplot as plt"
   ]
  },
  {
   "cell_type": "code",
   "execution_count": 5,
   "metadata": {
    "ExecuteTime": {
     "end_time": "2021-11-19T15:38:31.142031Z",
     "start_time": "2021-11-19T15:38:31.139113Z"
    }
   },
   "outputs": [],
   "source": [
    "import torch\n",
    "import torch.nn as nn\n",
    "import torch.optim as optim"
   ]
  },
  {
   "cell_type": "code",
   "execution_count": 6,
   "metadata": {
    "ExecuteTime": {
     "end_time": "2021-11-19T15:38:31.295107Z",
     "start_time": "2021-11-19T15:38:31.292578Z"
    }
   },
   "outputs": [],
   "source": [
    "from utils import load_mnist\n",
    "from trainer import Trainer"
   ]
  },
  {
   "cell_type": "code",
   "execution_count": 7,
   "metadata": {
    "ExecuteTime": {
     "end_time": "2021-11-19T15:38:31.464494Z",
     "start_time": "2021-11-19T15:38:31.460936Z"
    }
   },
   "outputs": [],
   "source": [
    "def show_image(x):\n",
    "    if x.dim() == 1:\n",
    "        x = x.view(int(x.size(0) ** .5), -1)\n",
    "    \n",
    "    plt.imshow(x, cmap='gray')\n",
    "    plt.show()"
   ]
  },
  {
   "cell_type": "code",
   "execution_count": 8,
   "metadata": {
    "ExecuteTime": {
     "end_time": "2021-11-19T15:38:31.611807Z",
     "start_time": "2021-11-19T15:38:31.608083Z"
    }
   },
   "outputs": [
    {
     "name": "stdout",
     "output_type": "stream",
     "text": [
      "Namespace(batch_size=256, btl_size=2, n_epochs=50, train_ratio=0.8, verbose=1)\n"
     ]
    }
   ],
   "source": [
    "from argparse import Namespace\n",
    "\n",
    "config = {\n",
    "    'train_ratio': .8,\n",
    "    'batch_size': 256,\n",
    "    'n_epochs': 50,\n",
    "    'verbose': 1,\n",
    "    'btl_size': 2\n",
    "}\n",
    "\n",
    "config = Namespace(**config)\n",
    "\n",
    "print(config)"
   ]
  },
  {
   "cell_type": "code",
   "execution_count": 9,
   "metadata": {
    "ExecuteTime": {
     "end_time": "2021-11-19T15:38:33.417719Z",
     "start_time": "2021-11-19T15:38:32.937915Z"
    }
   },
   "outputs": [
    {
     "name": "stdout",
     "output_type": "stream",
     "text": [
      "Train: torch.Size([48000, 784]) torch.Size([48000])\n",
      "Valid: torch.Size([12000, 784]) torch.Size([12000])\n",
      "Test: torch.Size([10000, 784]) torch.Size([10000])\n"
     ]
    }
   ],
   "source": [
    "train_x, train_y = load_mnist(flatten=True)\n",
    "test_x, test_y = load_mnist(is_train=False, flatten=True)\n",
    "\n",
    "train_cnt = int(train_x.size(0) * config.train_ratio)\n",
    "valid_cnt = train_x.size(0) - train_cnt\n",
    "\n",
    "# Shuffle dataset to split into train/valid set.\n",
    "indices = torch.randperm(train_x.size(0))\n",
    "train_x, valid_x = torch.index_select(\n",
    "    train_x,\n",
    "    dim=0,\n",
    "    index=indices\n",
    ").split([train_cnt, valid_cnt], dim=0)\n",
    "train_y, valid_y = torch.index_select(\n",
    "    train_y,\n",
    "    dim=0,\n",
    "    index=indices\n",
    ").split([train_cnt, valid_cnt], dim=0)\n",
    "\n",
    "print(\"Train:\", train_x.shape, train_y.shape)\n",
    "print(\"Valid:\", valid_x.shape, valid_y.shape)\n",
    "print(\"Test:\", test_x.shape, test_y.shape)"
   ]
  },
  {
   "cell_type": "code",
   "execution_count": 10,
   "metadata": {
    "ExecuteTime": {
     "end_time": "2021-11-19T15:38:35.048009Z",
     "start_time": "2021-11-19T15:38:35.041942Z"
    }
   },
   "outputs": [],
   "source": [
    "from model import Autoencoder"
   ]
  },
  {
   "cell_type": "code",
   "execution_count": 11,
   "metadata": {
    "ExecuteTime": {
     "end_time": "2021-11-19T15:38:39.787791Z",
     "start_time": "2021-11-19T15:38:39.773310Z"
    }
   },
   "outputs": [],
   "source": [
    "model = Autoencoder(btl_size=config.btl_size)\n",
    "optimizer = optim.Adam(model.parameters())\n",
    "crit = nn.MSELoss()\n",
    "\n",
    "trainer = Trainer(model, optimizer, crit)"
   ]
  },
  {
   "cell_type": "code",
   "execution_count": 9,
   "metadata": {
    "scrolled": false
   },
   "outputs": [
    {
     "name": "stdout",
     "output_type": "stream",
     "text": [
      "Epoch(1/50): train_loss=7.1095e-02  valid_loss=4.8452e-02  lowest_loss=4.8452e-02\n",
      "Epoch(2/50): train_loss=4.6513e-02  valid_loss=4.5166e-02  lowest_loss=4.5166e-02\n",
      "Epoch(3/50): train_loss=4.4434e-02  valid_loss=4.3596e-02  lowest_loss=4.3596e-02\n",
      "Epoch(4/50): train_loss=4.3153e-02  valid_loss=4.2079e-02  lowest_loss=4.2079e-02\n",
      "Epoch(5/50): train_loss=4.2045e-02  valid_loss=4.1227e-02  lowest_loss=4.1227e-02\n",
      "Epoch(6/50): train_loss=4.1696e-02  valid_loss=4.1607e-02  lowest_loss=4.1227e-02\n",
      "Epoch(7/50): train_loss=4.0986e-02  valid_loss=4.0988e-02  lowest_loss=4.0988e-02\n",
      "Epoch(8/50): train_loss=4.0977e-02  valid_loss=4.0392e-02  lowest_loss=4.0392e-02\n",
      "Epoch(9/50): train_loss=4.0553e-02  valid_loss=3.9541e-02  lowest_loss=3.9541e-02\n",
      "Epoch(10/50): train_loss=4.0326e-02  valid_loss=3.9089e-02  lowest_loss=3.9089e-02\n",
      "Epoch(11/50): train_loss=4.0040e-02  valid_loss=3.9847e-02  lowest_loss=3.9089e-02\n",
      "Epoch(12/50): train_loss=3.9876e-02  valid_loss=3.9631e-02  lowest_loss=3.9089e-02\n",
      "Epoch(13/50): train_loss=3.9619e-02  valid_loss=3.9644e-02  lowest_loss=3.9089e-02\n",
      "Epoch(14/50): train_loss=3.9183e-02  valid_loss=3.9063e-02  lowest_loss=3.9063e-02\n",
      "Epoch(15/50): train_loss=3.9090e-02  valid_loss=3.8173e-02  lowest_loss=3.8173e-02\n",
      "Epoch(16/50): train_loss=3.8835e-02  valid_loss=3.8519e-02  lowest_loss=3.8173e-02\n",
      "Epoch(17/50): train_loss=3.8715e-02  valid_loss=3.7850e-02  lowest_loss=3.7850e-02\n",
      "Epoch(18/50): train_loss=3.9060e-02  valid_loss=3.8772e-02  lowest_loss=3.7850e-02\n",
      "Epoch(19/50): train_loss=3.8902e-02  valid_loss=3.8817e-02  lowest_loss=3.7850e-02\n",
      "Epoch(20/50): train_loss=3.8540e-02  valid_loss=3.8602e-02  lowest_loss=3.7850e-02\n",
      "Epoch(21/50): train_loss=3.8600e-02  valid_loss=3.7829e-02  lowest_loss=3.7829e-02\n",
      "Epoch(22/50): train_loss=3.8832e-02  valid_loss=3.8034e-02  lowest_loss=3.7829e-02\n",
      "Epoch(23/50): train_loss=3.8026e-02  valid_loss=3.7624e-02  lowest_loss=3.7624e-02\n",
      "Epoch(24/50): train_loss=3.8224e-02  valid_loss=3.7242e-02  lowest_loss=3.7242e-02\n",
      "Epoch(25/50): train_loss=3.7743e-02  valid_loss=3.8081e-02  lowest_loss=3.7242e-02\n",
      "Epoch(26/50): train_loss=3.8198e-02  valid_loss=3.7008e-02  lowest_loss=3.7008e-02\n",
      "Epoch(27/50): train_loss=3.7893e-02  valid_loss=3.7853e-02  lowest_loss=3.7008e-02\n",
      "Epoch(28/50): train_loss=3.8006e-02  valid_loss=3.7237e-02  lowest_loss=3.7008e-02\n",
      "Epoch(29/50): train_loss=3.7836e-02  valid_loss=3.7563e-02  lowest_loss=3.7008e-02\n",
      "Epoch(30/50): train_loss=3.7958e-02  valid_loss=3.7361e-02  lowest_loss=3.7008e-02\n",
      "Epoch(31/50): train_loss=3.7592e-02  valid_loss=3.6931e-02  lowest_loss=3.6931e-02\n",
      "Epoch(32/50): train_loss=3.7644e-02  valid_loss=3.6738e-02  lowest_loss=3.6738e-02\n",
      "Epoch(33/50): train_loss=3.7268e-02  valid_loss=3.6341e-02  lowest_loss=3.6341e-02\n",
      "Epoch(34/50): train_loss=3.7050e-02  valid_loss=3.6738e-02  lowest_loss=3.6341e-02\n",
      "Epoch(35/50): train_loss=3.7109e-02  valid_loss=3.7185e-02  lowest_loss=3.6341e-02\n",
      "Epoch(36/50): train_loss=3.6740e-02  valid_loss=3.6051e-02  lowest_loss=3.6051e-02\n",
      "Epoch(37/50): train_loss=3.6831e-02  valid_loss=3.6646e-02  lowest_loss=3.6051e-02\n",
      "Epoch(38/50): train_loss=3.6639e-02  valid_loss=3.6050e-02  lowest_loss=3.6050e-02\n",
      "Epoch(39/50): train_loss=3.6653e-02  valid_loss=3.7249e-02  lowest_loss=3.6050e-02\n",
      "Epoch(40/50): train_loss=3.7271e-02  valid_loss=3.6724e-02  lowest_loss=3.6050e-02\n",
      "Epoch(41/50): train_loss=3.7240e-02  valid_loss=3.6418e-02  lowest_loss=3.6050e-02\n",
      "Epoch(42/50): train_loss=3.6961e-02  valid_loss=3.6144e-02  lowest_loss=3.6050e-02\n",
      "Epoch(43/50): train_loss=3.6447e-02  valid_loss=3.5851e-02  lowest_loss=3.5851e-02\n",
      "Epoch(44/50): train_loss=3.6815e-02  valid_loss=3.6869e-02  lowest_loss=3.5851e-02\n",
      "Epoch(45/50): train_loss=3.6695e-02  valid_loss=3.5635e-02  lowest_loss=3.5635e-02\n",
      "Epoch(46/50): train_loss=3.6470e-02  valid_loss=3.5820e-02  lowest_loss=3.5635e-02\n",
      "Epoch(47/50): train_loss=3.6221e-02  valid_loss=3.6020e-02  lowest_loss=3.5635e-02\n",
      "Epoch(48/50): train_loss=3.6851e-02  valid_loss=3.5943e-02  lowest_loss=3.5635e-02\n",
      "Epoch(49/50): train_loss=3.6436e-02  valid_loss=3.6187e-02  lowest_loss=3.5635e-02\n",
      "Epoch(50/50): train_loss=3.6483e-02  valid_loss=3.6316e-02  lowest_loss=3.5635e-02\n"
     ]
    }
   ],
   "source": [
    "trainer.train((train_x, train_x), (valid_x, valid_x), config)"
   ]
  },
  {
   "cell_type": "markdown",
   "metadata": {},
   "source": [
    "## Mean value in each space"
   ]
  },
  {
   "cell_type": "code",
   "execution_count": 15,
   "metadata": {
    "ExecuteTime": {
     "end_time": "2021-11-19T15:39:21.954148Z",
     "start_time": "2021-11-19T15:39:21.948948Z"
    }
   },
   "outputs": [
    {
     "data": {
      "text/plain": [
       "torch.Size([28, 28])"
      ]
     },
     "execution_count": 15,
     "metadata": {},
     "output_type": "execute_result"
    }
   ],
   "source": [
    "test_x[1].view(int(test_x[1].size(0) ** .5), -1).shape"
   ]
  },
  {
   "cell_type": "code",
   "execution_count": 10,
   "metadata": {},
   "outputs": [
    {
     "data": {
      "image/png": "[encoded data removed]",
      "text/plain": [
       "<Figure size 432x288 with 1 Axes>"
      ]
     },
     "metadata": {
      "needs_background": "light"
     },
     "output_type": "display_data"
    },
    {
     "data": {
      "image/png": "[encoded data removed]",
      "text/plain": [
       "<Figure size 432x288 with 1 Axes>"
      ]
     },
     "metadata": {
      "needs_background": "light"
     },
     "output_type": "display_data"
    },
    {
     "data": {
      "image/png": "[encoded data removed]",
      "text/plain": [
       "<Figure size 432x288 with 1 Axes>"
      ]
     },
     "metadata": {
      "needs_background": "light"
     },
     "output_type": "display_data"
    },
    {
     "data": {
      "image/png": "[encoded data removed]",
      "text/plain": [
       "<Figure size 432x288 with 1 Axes>"
      ]
     },
     "metadata": {
      "needs_background": "light"
     },
     "output_type": "display_data"
    }
   ],
   "source": [
    "with torch.no_grad():\n",
    "    import random\n",
    "\n",
    "    index1 = int(random.random() * test_x.size(0))\n",
    "    index2 = int(random.random() * test_x.size(0))\n",
    "    \n",
    "    z1 = model.encoder(test_x[index1].view(1, -1))\n",
    "    z2 = model.encoder(test_x[index2].view(1, -1))\n",
    "\n",
    "    recon = model.decoder((z1 + z2) / 2).squeeze()\n",
    "\n",
    "    show_image(test_x[index1])\n",
    "    show_image(test_x[index2])\n",
    "    show_image((test_x[index1] + test_x[index2]) / 2)\n",
    "    show_image(recon)"
   ]
  },
  {
   "cell_type": "code",
   "execution_count": null,
   "metadata": {},
   "outputs": [],
   "source": []
  }
 ],
 "metadata": {
  "hide_input": false,
  "kernelspec": {
   "display_name": "Python 3 (ipykernel)",
   "language": "python",
   "name": "python3"
  },
  "language_info": {
   "codemirror_mode": {
    "name": "ipython",
    "version": 3
   },
   "file_extension": ".py",
   "mimetype": "text/x-python",
   "name": "python",
   "nbconvert_exporter": "python",
   "pygments_lexer": "ipython3",
   "version": "3.8.5"
  },
  "toc": {
   "base_numbering": 1,
   "nav_menu": {},
   "number_sections": true,
   "sideBar": true,
   "skip_h1_title": false,
   "title_cell": "Table of Contents",
   "title_sidebar": "Contents",
   "toc_cell": false,
   "toc_position": {},
   "toc_section_display": true,
   "toc_window_display": false
  },
  "varInspector": {
   "cols": {
    "lenName": 16,
    "lenType": 16,
    "lenVar": 40
   },
   "kernels_config": {
    "python": {
     "delete_cmd_postfix": "",
     "delete_cmd_prefix": "del ",
     "library": "var_list.py",
     "varRefreshCmd": "print(var_dic_list())"
    },
    "r": {
     "delete_cmd_postfix": ") ",
     "delete_cmd_prefix": "rm(",
     "library": "var_list.r",
     "varRefreshCmd": "cat(var_dic_list()) "
    }
   },
   "types_to_exclude": [
    "module",
    "function",
    "builtin_function_or_method",
    "instance",
    "_Feature"
   ],
   "window_display": false
  }
 },
 "nbformat": 4,
 "nbformat_minor": 4
}
